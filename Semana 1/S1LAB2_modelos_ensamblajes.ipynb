{
 "cells": [
  {
   "cell_type": "markdown",
   "metadata": {},
   "source": [
    "![image info](https://raw.githubusercontent.com/albahnsen/MIAD_ML_and_NLP/main/images/banner_1.png)"
   ]
  },
  {
   "cell_type": "markdown",
   "metadata": {},
   "source": [
    "# Construcción e implementación de modelos con métodos de ensamblajes  \n",
    "\n",
    "En este notebook aprenderá a construir e implementar dos métodos de ensamblaje (bagging y combinación de modelos), desarrollando el código manualmente y  usando la librería especializada sklearn."
   ]
  },
  {
   "cell_type": "markdown",
   "metadata": {},
   "source": [
    "## Instrucciones Generales:\n",
    "\n",
    "Por una parte, los modelos con Bagging que construirá por medio de este notebook deberán predecir el precio de un automóvil dadas diferentes características. Por otra parte, los métodos de combinación de modelos debera predecir si un usuario deja o no de usar los servicios de una compañía (churn) teniendo en cuenta diferentes variables. Para conocer más detalles de la base de 'churn' puede ingresar al siguiente vínculo: http://srepho.github.io/Churn/Churn\n",
    "   \n",
    "Para realizar la actividad, solo siga las indicaciones asociadas a cada celda del notebook. "
   ]
  },
  {
   "cell_type": "markdown",
   "metadata": {},
   "source": [
    "## Importar base de datos y librerías"
   ]
  },
  {
   "cell_type": "code",
   "execution_count": null,
   "metadata": {},
   "outputs": [],
   "source": [
    "import warnings\n",
    "warnings.filterwarnings('ignore')"
   ]
  },
  {
   "cell_type": "code",
   "execution_count": 2,
   "metadata": {},
   "outputs": [],
   "source": [
    "# Carga de datos de archivos .csv\n",
    "import pandas as pd\n",
    "import numpy as np\n",
    "\n",
    "# Datos de entremiento\n",
    "url = 'https://raw.githubusercontent.com/albahnsen/MIAD_ML_and_NLP/main/datasets/vehicles_train.csv'\n",
    "train = pd.read_csv(url)\n",
    "train['vtype'] = train.vtype.map({'car':0, 'truck':1})\n",
    "\n",
    "# Datos de evaluación (test)\n",
    "url = 'https://raw.githubusercontent.com/albahnsen/MIAD_ML_and_NLP/main/datasets/vehicles_test.csv'\n",
    "test = pd.read_csv(url)\n",
    "test['vtype'] = test.vtype.map({'car':0, 'truck':1})"
   ]
  },
  {
   "cell_type": "code",
   "execution_count": 2,
   "metadata": {},
   "outputs": [
    {
     "data": {
      "text/html": [
       "<div>\n",
       "<style scoped>\n",
       "    .dataframe tbody tr th:only-of-type {\n",
       "        vertical-align: middle;\n",
       "    }\n",
       "\n",
       "    .dataframe tbody tr th {\n",
       "        vertical-align: top;\n",
       "    }\n",
       "\n",
       "    .dataframe thead th {\n",
       "        text-align: right;\n",
       "    }\n",
       "</style>\n",
       "<table border=\"1\" class=\"dataframe\">\n",
       "  <thead>\n",
       "    <tr style=\"text-align: right;\">\n",
       "      <th></th>\n",
       "      <th>price</th>\n",
       "      <th>year</th>\n",
       "      <th>miles</th>\n",
       "      <th>doors</th>\n",
       "      <th>vtype</th>\n",
       "    </tr>\n",
       "  </thead>\n",
       "  <tbody>\n",
       "    <tr>\n",
       "      <th>0</th>\n",
       "      <td>22000</td>\n",
       "      <td>2012</td>\n",
       "      <td>13000</td>\n",
       "      <td>2</td>\n",
       "      <td>0</td>\n",
       "    </tr>\n",
       "    <tr>\n",
       "      <th>1</th>\n",
       "      <td>14000</td>\n",
       "      <td>2010</td>\n",
       "      <td>30000</td>\n",
       "      <td>2</td>\n",
       "      <td>0</td>\n",
       "    </tr>\n",
       "    <tr>\n",
       "      <th>2</th>\n",
       "      <td>13000</td>\n",
       "      <td>2010</td>\n",
       "      <td>73500</td>\n",
       "      <td>4</td>\n",
       "      <td>0</td>\n",
       "    </tr>\n",
       "    <tr>\n",
       "      <th>3</th>\n",
       "      <td>9500</td>\n",
       "      <td>2009</td>\n",
       "      <td>78000</td>\n",
       "      <td>4</td>\n",
       "      <td>0</td>\n",
       "    </tr>\n",
       "    <tr>\n",
       "      <th>4</th>\n",
       "      <td>9000</td>\n",
       "      <td>2007</td>\n",
       "      <td>47000</td>\n",
       "      <td>4</td>\n",
       "      <td>0</td>\n",
       "    </tr>\n",
       "  </tbody>\n",
       "</table>\n",
       "</div>"
      ],
      "text/plain": [
       "   price  year  miles  doors  vtype\n",
       "0  22000  2012  13000      2      0\n",
       "1  14000  2010  30000      2      0\n",
       "2  13000  2010  73500      4      0\n",
       "3   9500  2009  78000      4      0\n",
       "4   9000  2007  47000      4      0"
      ]
     },
     "execution_count": 2,
     "metadata": {},
     "output_type": "execute_result"
    }
   ],
   "source": [
    "# Impresión de 5 observaciones del set de entrenamiento\n",
    "train.head()"
   ]
  },
  {
   "cell_type": "code",
   "execution_count": 28,
   "metadata": {},
   "outputs": [
    {
     "name": "stdout",
     "output_type": "stream",
     "text": [
      "(14, 5) (3, 5)\n"
     ]
    }
   ],
   "source": [
    "print(train.shape,test.shape)"
   ]
  },
  {
   "cell_type": "markdown",
   "metadata": {},
   "source": [
    "## Entrenar diferentes modelos"
   ]
  },
  {
   "cell_type": "code",
   "execution_count": 3,
   "metadata": {},
   "outputs": [],
   "source": [
    "from sklearn.linear_model import LinearRegression\n",
    "from sklearn.tree import DecisionTreeRegressor\n",
    "from sklearn.naive_bayes import GaussianNB\n",
    "from sklearn.neighbors import KNeighborsRegressor\n",
    "\n",
    "# Definición de 4 modelos diferentes: regresión logística, árbol de decisión,Navie Bayes y k vecinos más cercanos\n",
    "models = {'lr': LinearRegression(),\n",
    "          'dt': DecisionTreeRegressor(),\n",
    "          'nb': GaussianNB(),\n",
    "          'kn': KNeighborsRegressor()}"
   ]
  },
  {
   "cell_type": "code",
   "execution_count": 4,
   "metadata": {},
   "outputs": [],
   "source": [
    "# Separación de variables predictoras (X) y variable de interés (y) en set de entrenamiento y test\n",
    "X_train = train.iloc[:, 1:]\n",
    "X_test = test.iloc[:, 1:]\n",
    "y_train = train.price\n",
    "y_test = test.price\n",
    "\n",
    "# Entrenamiento (fit) de cada modelo\n",
    "for model in models.keys():\n",
    "    models[model].fit(X_train, y_train)"
   ]
  },
  {
   "cell_type": "code",
   "execution_count": 5,
   "metadata": {},
   "outputs": [],
   "source": [
    "# Predicción de las observaciones del set de test para cada modelo\n",
    "y_pred = pd.DataFrame(index=test.index, columns=models.keys())\n",
    "for model in models.keys():\n",
    "    y_pred[model] = models[model].predict(X_test)"
   ]
  },
  {
   "cell_type": "code",
   "execution_count": 6,
   "metadata": {},
   "outputs": [
    {
     "name": "stdout",
     "output_type": "stream",
     "text": [
      "lr 2138.3579028745116\n",
      "dt 1414.213562373095\n",
      "nb 5477.2255750516615\n",
      "kn 1671.3268182295567\n"
     ]
    }
   ],
   "source": [
    "# Evaluación del error de cada modelo\n",
    "from sklearn.metrics import mean_squared_error\n",
    "\n",
    "for model in models.keys():\n",
    "    print(model,np.sqrt(mean_squared_error(y_pred[model], y_test)))"
   ]
  },
  {
   "cell_type": "code",
   "execution_count": 7,
   "metadata": {},
   "outputs": [
    {
     "data": {
      "text/plain": [
       "1385.2160374617874"
      ]
     },
     "execution_count": 7,
     "metadata": {},
     "output_type": "execute_result"
    }
   ],
   "source": [
    "# Evaluación  del error promedio de las predicciones\n",
    "np.sqrt(mean_squared_error(y_pred.mean(axis=1), y_test))"
   ]
  },
  {
   "cell_type": "markdown",
   "metadata": {},
   "source": [
    "## Bagging Manual"
   ]
  },
  {
   "cell_type": "code",
   "execution_count": 8,
   "metadata": {},
   "outputs": [
    {
     "name": "stdout",
     "output_type": "stream",
     "text": [
      "Arreglo: [ 1  2  3  4  5  6  7  8  9 10 11 12 13 14 15 16 17 18 19 20]\n",
      "Muestreo aleatorio:  [ 6 12 13  9 10 12  6 16  1 17  2 13  8 14  7 19  6 19 12 11]\n"
     ]
    }
   ],
   "source": [
    "# Se crea un arreglo de 1 a 20\n",
    "np.random.seed(1)\n",
    "\n",
    "# Impresión de arreglo y muestreo aleatorio\n",
    "nums = np.arange(1, 21)\n",
    "print('Arreglo:', nums)\n",
    "print('Muestreo aleatorio: ', np.random.choice(a=nums, size=20, replace=True))"
   ]
  },
  {
   "cell_type": "code",
   "execution_count": 9,
   "metadata": {},
   "outputs": [
    {
     "data": {
      "text/plain": [
       "[array([13,  2, 12,  2,  6,  1,  3, 10, 11,  9,  6,  1,  0,  1]),\n",
       " array([ 9,  0,  0,  9,  3, 13,  4,  0,  0,  4,  1,  7,  3,  2]),\n",
       " array([ 4,  7,  2,  4,  8, 13,  0,  7,  9,  3, 12, 12,  4,  6]),\n",
       " array([ 1,  5,  6, 11,  2,  1, 12,  8,  3, 10,  5,  0, 11,  2]),\n",
       " array([10, 10,  6, 13,  2,  4, 11, 11, 13, 12,  4,  6, 13,  3]),\n",
       " array([10,  0,  6,  4,  7, 11,  6,  7,  1, 11, 10,  5,  7,  9]),\n",
       " array([ 2,  4,  8,  1, 12,  2,  1,  1,  3, 12,  5,  9,  0,  8]),\n",
       " array([11,  1,  6,  3,  3, 11,  5,  9,  7,  9,  2,  3, 11,  3]),\n",
       " array([ 3,  8,  6,  9,  7,  6,  3,  9,  6, 12,  6, 11,  6,  1]),\n",
       " array([13, 10,  3,  4,  3,  1, 13,  0,  5,  8, 13,  6, 11,  8])]"
      ]
     },
     "execution_count": 9,
     "metadata": {},
     "output_type": "execute_result"
    }
   ],
   "source": [
    "# Creación de 10 muestras de bootstrap \n",
    "np.random.seed(123)\n",
    "\n",
    "n_samples = train.shape[0]\n",
    "n_B = 10\n",
    "\n",
    "samples = [np.random.choice(a=n_samples, size=n_samples, replace=True) for _ in range(1, n_B +1 )]\n",
    "samples"
   ]
  },
  {
   "cell_type": "code",
   "execution_count": 10,
   "metadata": {},
   "outputs": [
    {
     "data": {
      "text/html": [
       "<div>\n",
       "<style scoped>\n",
       "    .dataframe tbody tr th:only-of-type {\n",
       "        vertical-align: middle;\n",
       "    }\n",
       "\n",
       "    .dataframe tbody tr th {\n",
       "        vertical-align: top;\n",
       "    }\n",
       "\n",
       "    .dataframe thead th {\n",
       "        text-align: right;\n",
       "    }\n",
       "</style>\n",
       "<table border=\"1\" class=\"dataframe\">\n",
       "  <thead>\n",
       "    <tr style=\"text-align: right;\">\n",
       "      <th></th>\n",
       "      <th>price</th>\n",
       "      <th>year</th>\n",
       "      <th>miles</th>\n",
       "      <th>doors</th>\n",
       "      <th>vtype</th>\n",
       "    </tr>\n",
       "  </thead>\n",
       "  <tbody>\n",
       "    <tr>\n",
       "      <th>13</th>\n",
       "      <td>1300</td>\n",
       "      <td>1997</td>\n",
       "      <td>138000</td>\n",
       "      <td>4</td>\n",
       "      <td>0</td>\n",
       "    </tr>\n",
       "    <tr>\n",
       "      <th>2</th>\n",
       "      <td>13000</td>\n",
       "      <td>2010</td>\n",
       "      <td>73500</td>\n",
       "      <td>4</td>\n",
       "      <td>0</td>\n",
       "    </tr>\n",
       "    <tr>\n",
       "      <th>12</th>\n",
       "      <td>1800</td>\n",
       "      <td>1999</td>\n",
       "      <td>163000</td>\n",
       "      <td>2</td>\n",
       "      <td>1</td>\n",
       "    </tr>\n",
       "    <tr>\n",
       "      <th>2</th>\n",
       "      <td>13000</td>\n",
       "      <td>2010</td>\n",
       "      <td>73500</td>\n",
       "      <td>4</td>\n",
       "      <td>0</td>\n",
       "    </tr>\n",
       "    <tr>\n",
       "      <th>6</th>\n",
       "      <td>3000</td>\n",
       "      <td>2004</td>\n",
       "      <td>177000</td>\n",
       "      <td>4</td>\n",
       "      <td>0</td>\n",
       "    </tr>\n",
       "    <tr>\n",
       "      <th>1</th>\n",
       "      <td>14000</td>\n",
       "      <td>2010</td>\n",
       "      <td>30000</td>\n",
       "      <td>2</td>\n",
       "      <td>0</td>\n",
       "    </tr>\n",
       "    <tr>\n",
       "      <th>3</th>\n",
       "      <td>9500</td>\n",
       "      <td>2009</td>\n",
       "      <td>78000</td>\n",
       "      <td>4</td>\n",
       "      <td>0</td>\n",
       "    </tr>\n",
       "    <tr>\n",
       "      <th>10</th>\n",
       "      <td>2500</td>\n",
       "      <td>2003</td>\n",
       "      <td>190000</td>\n",
       "      <td>2</td>\n",
       "      <td>1</td>\n",
       "    </tr>\n",
       "    <tr>\n",
       "      <th>11</th>\n",
       "      <td>5000</td>\n",
       "      <td>2001</td>\n",
       "      <td>62000</td>\n",
       "      <td>4</td>\n",
       "      <td>0</td>\n",
       "    </tr>\n",
       "    <tr>\n",
       "      <th>9</th>\n",
       "      <td>1900</td>\n",
       "      <td>2003</td>\n",
       "      <td>160000</td>\n",
       "      <td>4</td>\n",
       "      <td>0</td>\n",
       "    </tr>\n",
       "    <tr>\n",
       "      <th>6</th>\n",
       "      <td>3000</td>\n",
       "      <td>2004</td>\n",
       "      <td>177000</td>\n",
       "      <td>4</td>\n",
       "      <td>0</td>\n",
       "    </tr>\n",
       "    <tr>\n",
       "      <th>1</th>\n",
       "      <td>14000</td>\n",
       "      <td>2010</td>\n",
       "      <td>30000</td>\n",
       "      <td>2</td>\n",
       "      <td>0</td>\n",
       "    </tr>\n",
       "    <tr>\n",
       "      <th>0</th>\n",
       "      <td>22000</td>\n",
       "      <td>2012</td>\n",
       "      <td>13000</td>\n",
       "      <td>2</td>\n",
       "      <td>0</td>\n",
       "    </tr>\n",
       "    <tr>\n",
       "      <th>1</th>\n",
       "      <td>14000</td>\n",
       "      <td>2010</td>\n",
       "      <td>30000</td>\n",
       "      <td>2</td>\n",
       "      <td>0</td>\n",
       "    </tr>\n",
       "  </tbody>\n",
       "</table>\n",
       "</div>"
      ],
      "text/plain": [
       "    price  year   miles  doors  vtype\n",
       "13   1300  1997  138000      4      0\n",
       "2   13000  2010   73500      4      0\n",
       "12   1800  1999  163000      2      1\n",
       "2   13000  2010   73500      4      0\n",
       "6    3000  2004  177000      4      0\n",
       "1   14000  2010   30000      2      0\n",
       "3    9500  2009   78000      4      0\n",
       "10   2500  2003  190000      2      1\n",
       "11   5000  2001   62000      4      0\n",
       "9    1900  2003  160000      4      0\n",
       "6    3000  2004  177000      4      0\n",
       "1   14000  2010   30000      2      0\n",
       "0   22000  2012   13000      2      0\n",
       "1   14000  2010   30000      2      0"
      ]
     },
     "execution_count": 10,
     "metadata": {},
     "output_type": "execute_result"
    }
   ],
   "source": [
    "# Visualización muestra boostrap #1 para entremiento\n",
    "train.iloc[samples[0], :]"
   ]
  },
  {
   "cell_type": "code",
   "execution_count": 29,
   "metadata": {},
   "outputs": [
    {
     "data": {
      "text/html": [
       "<div>\n",
       "<style scoped>\n",
       "    .dataframe tbody tr th:only-of-type {\n",
       "        vertical-align: middle;\n",
       "    }\n",
       "\n",
       "    .dataframe tbody tr th {\n",
       "        vertical-align: top;\n",
       "    }\n",
       "\n",
       "    .dataframe thead tr th {\n",
       "        text-align: left;\n",
       "    }\n",
       "</style>\n",
       "<table border=\"1\" class=\"dataframe\">\n",
       "  <thead>\n",
       "    <tr>\n",
       "      <th></th>\n",
       "      <th>0</th>\n",
       "      <th>1</th>\n",
       "      <th>2</th>\n",
       "      <th>3</th>\n",
       "      <th>4</th>\n",
       "      <th>5</th>\n",
       "      <th>6</th>\n",
       "      <th>7</th>\n",
       "      <th>8</th>\n",
       "      <th>9</th>\n",
       "    </tr>\n",
       "  </thead>\n",
       "  <tbody>\n",
       "    <tr>\n",
       "      <th>0</th>\n",
       "      <td>1300.0</td>\n",
       "      <td>1300.0</td>\n",
       "      <td>3000.0</td>\n",
       "      <td>4000.0</td>\n",
       "      <td>1300.0</td>\n",
       "      <td>4000.0</td>\n",
       "      <td>4000.0</td>\n",
       "      <td>4000.0</td>\n",
       "      <td>3000.0</td>\n",
       "      <td>4000.0</td>\n",
       "    </tr>\n",
       "    <tr>\n",
       "      <th>1</th>\n",
       "      <td>5000.0</td>\n",
       "      <td>1300.0</td>\n",
       "      <td>3000.0</td>\n",
       "      <td>5000.0</td>\n",
       "      <td>5000.0</td>\n",
       "      <td>5000.0</td>\n",
       "      <td>4000.0</td>\n",
       "      <td>5000.0</td>\n",
       "      <td>5000.0</td>\n",
       "      <td>5000.0</td>\n",
       "    </tr>\n",
       "    <tr>\n",
       "      <th>2</th>\n",
       "      <td>14000.0</td>\n",
       "      <td>13000.0</td>\n",
       "      <td>13000.0</td>\n",
       "      <td>13000.0</td>\n",
       "      <td>13000.0</td>\n",
       "      <td>14000.0</td>\n",
       "      <td>13000.0</td>\n",
       "      <td>13000.0</td>\n",
       "      <td>9500.0</td>\n",
       "      <td>9000.0</td>\n",
       "    </tr>\n",
       "  </tbody>\n",
       "</table>\n",
       "</div>"
      ],
      "text/plain": [
       "         0        1        2        3        4        5        6        7  \\\n",
       "0   1300.0   1300.0   3000.0   4000.0   1300.0   4000.0   4000.0   4000.0   \n",
       "1   5000.0   1300.0   3000.0   5000.0   5000.0   5000.0   4000.0   5000.0   \n",
       "2  14000.0  13000.0  13000.0  13000.0  13000.0  14000.0  13000.0  13000.0   \n",
       "\n",
       "        8       9  \n",
       "0  3000.0  4000.0  \n",
       "1  5000.0  5000.0  \n",
       "2  9500.0  9000.0  "
      ]
     },
     "execution_count": 29,
     "metadata": {},
     "output_type": "execute_result"
    }
   ],
   "source": [
    "# Construcción un árbol de decisión para cada muestra boostrap\n",
    "\n",
    "from sklearn.tree import DecisionTreeRegressor\n",
    "\n",
    "# Definición del modelo usando DecisionTreeRegressor de sklearn\n",
    "treereg = DecisionTreeRegressor(max_depth=None, random_state=123)\n",
    "\n",
    "# DataFrame para guardar las predicciones de cada árbol\n",
    "y_pred = pd.DataFrame(index=test.index, columns=[list(range(n_B))])\n",
    "\n",
    "# Entrenamiento de un árbol sobre cada muestra boostrap y predicción sobre los datos de test\n",
    "for i, sample in enumerate(samples):\n",
    "    X_train = train.iloc[sample, 1:]\n",
    "    y_train = train.iloc[sample, 0]\n",
    "    treereg.fit(X_train, y_train)\n",
    "    y_pred.iloc[:,i] = treereg.predict(X_test)\n",
    "    \n",
    "y_pred"
   ]
  },
  {
   "cell_type": "code",
   "execution_count": 30,
   "metadata": {},
   "outputs": [
    {
     "name": "stdout",
     "output_type": "stream",
     "text": [
      "Árbol  0 tiene un error:  1621.7274740226856\n",
      "Árbol  1 tiene un error:  2942.7877939124323\n",
      "Árbol  2 tiene un error:  1825.7418583505537\n",
      "Árbol  3 tiene un error:  1000.0\n",
      "Árbol  4 tiene un error:  1276.7145334803704\n",
      "Árbol  5 tiene un error:  1414.213562373095\n",
      "Árbol  6 tiene un error:  1414.213562373095\n",
      "Árbol  7 tiene un error:  1000.0\n",
      "Árbol  8 tiene un error:  1554.5631755148024\n",
      "Árbol  9 tiene un error:  1914.854215512676\n"
     ]
    }
   ],
   "source": [
    "# Desempeño de cada árbol\n",
    "for i in range(n_B):\n",
    "    print('Árbol ', i, 'tiene un error: ', np.sqrt(mean_squared_error(y_pred.iloc[:,i], y_test)))"
   ]
  },
  {
   "cell_type": "code",
   "execution_count": 31,
   "metadata": {},
   "outputs": [
    {
     "data": {
      "text/plain": [
       "0     2990.0\n",
       "1     4330.0\n",
       "2    12450.0\n",
       "dtype: object"
      ]
     },
     "execution_count": 31,
     "metadata": {},
     "output_type": "execute_result"
    }
   ],
   "source": [
    "# Predicciones promedio para cada observación del set de test\n",
    "y_pred.mean(axis=1)"
   ]
  },
  {
   "cell_type": "code",
   "execution_count": 14,
   "metadata": {},
   "outputs": [
    {
     "data": {
      "text/plain": [
       "998.5823284370031"
      ]
     },
     "execution_count": 14,
     "metadata": {},
     "output_type": "execute_result"
    }
   ],
   "source": [
    "# Error al promediar las predicciones de todos los árboles\n",
    "np.sqrt(mean_squared_error(y_test, y_pred.mean(axis=1)))"
   ]
  },
  {
   "cell_type": "markdown",
   "metadata": {},
   "source": [
    "## Bagging con sklearn"
   ]
  },
  {
   "cell_type": "code",
   "execution_count": 15,
   "metadata": {},
   "outputs": [],
   "source": [
    "# Separación de variables predictoras (X) y variable de interés (y) en set de entrenamiento y test\n",
    "X_train = train.iloc[:, 1:]\n",
    "y_train = train.iloc[:, 0]\n",
    "X_test = test.iloc[:, 1:]\n",
    "y_test = test.iloc[:, 0]"
   ]
  },
  {
   "cell_type": "code",
   "execution_count": 16,
   "metadata": {},
   "outputs": [],
   "source": [
    "# Uso de BaggingRegressor de la libreria (sklearn) donde se usa el modelo DecisionTreeRegressor como estimador\n",
    "from sklearn.ensemble import BaggingRegressor\n",
    "bagreg = BaggingRegressor(DecisionTreeRegressor(), n_estimators=500, \n",
    "                          bootstrap=True, oob_score=True, random_state=1)"
   ]
  },
  {
   "cell_type": "code",
   "execution_count": 32,
   "metadata": {},
   "outputs": [
    {
     "data": {
      "text/plain": [
       "array([ 3512.6,  5350.6, 11050. ])"
      ]
     },
     "execution_count": 32,
     "metadata": {},
     "output_type": "execute_result"
    }
   ],
   "source": [
    "# Entrenemiento del modelo con set de entrenamiento y predicción en el set de test\n",
    "bagreg.fit(X_train, y_train)\n",
    "y_pred = bagreg.predict(X_test)\n",
    "y_pred"
   ]
  },
  {
   "cell_type": "code",
   "execution_count": 33,
   "metadata": {},
   "outputs": [
    {
     "data": {
      "text/plain": [
       "727.3190771593991"
      ]
     },
     "execution_count": 33,
     "metadata": {},
     "output_type": "execute_result"
    }
   ],
   "source": [
    "# Cálculo del error del modelo\n",
    "np.sqrt(mean_squared_error(y_test, y_pred))"
   ]
  },
  {
   "cell_type": "markdown",
   "metadata": {},
   "source": [
    "## Estimar el error out-of-sample"
   ]
  },
  {
   "cell_type": "code",
   "execution_count": 34,
   "metadata": {},
   "outputs": [
    {
     "data": {
      "text/plain": [
       "array([13,  2, 12,  2,  6,  1,  3, 10, 11,  9,  6,  1,  0,  1])"
      ]
     },
     "execution_count": 34,
     "metadata": {},
     "output_type": "execute_result"
    }
   ],
   "source": [
    "# Visualización de la primera muestra de bootstrap\n",
    "samples[0]"
   ]
  },
  {
   "cell_type": "code",
   "execution_count": 35,
   "metadata": {},
   "outputs": [
    {
     "name": "stdout",
     "output_type": "stream",
     "text": [
      "{0, 1, 2, 3, 6, 9, 10, 11, 12, 13}\n",
      "{0, 1, 2, 3, 4, 7, 9, 13}\n",
      "{0, 2, 3, 4, 6, 7, 8, 9, 12, 13}\n",
      "{0, 1, 2, 3, 5, 6, 8, 10, 11, 12}\n",
      "{2, 3, 4, 6, 10, 11, 12, 13}\n",
      "{0, 1, 4, 5, 6, 7, 9, 10, 11}\n",
      "{0, 1, 2, 3, 4, 5, 8, 9, 12}\n",
      "{1, 2, 3, 5, 6, 7, 9, 11}\n",
      "{1, 3, 6, 7, 8, 9, 11, 12}\n",
      "{0, 1, 3, 4, 5, 6, 8, 10, 11, 13}\n"
     ]
    }
   ],
   "source": [
    "# Visualización de las observaciones dentro de la bolsa \"in-bag\" para cada muestra\n",
    "for sample in samples:\n",
    "    print(set(sample))"
   ]
  },
  {
   "cell_type": "code",
   "execution_count": 36,
   "metadata": {},
   "outputs": [
    {
     "name": "stdout",
     "output_type": "stream",
     "text": [
      "[4, 5, 7, 8]\n",
      "[5, 6, 8, 10, 11, 12]\n",
      "[1, 5, 10, 11]\n",
      "[4, 7, 9, 13]\n",
      "[0, 1, 5, 7, 8, 9]\n",
      "[2, 3, 8, 12, 13]\n",
      "[6, 7, 10, 11, 13]\n",
      "[0, 4, 8, 10, 12, 13]\n",
      "[0, 2, 4, 5, 10, 13]\n",
      "[2, 7, 9, 12]\n"
     ]
    }
   ],
   "source": [
    "# Visualización de las observaciones fuera de la bolsa \"out-of-bag\" para cada muestra\n",
    "for sample in samples:\n",
    "    print(sorted(set(range(n_samples)) - set(sample)))"
   ]
  },
  {
   "cell_type": "code",
   "execution_count": 37,
   "metadata": {},
   "outputs": [
    {
     "data": {
      "text/plain": [
       "0.7834668778271038"
      ]
     },
     "execution_count": 37,
     "metadata": {},
     "output_type": "execute_result"
    }
   ],
   "source": [
    "# Cálculo del error the out-of-bag con el R-cuadrado (no con el MSE)\n",
    "bagreg.oob_score_"
   ]
  },
  {
   "cell_type": "markdown",
   "metadata": {},
   "source": [
    "## Combinación de clasificadores - Votación mayoritaria manual"
   ]
  },
  {
   "cell_type": "code",
   "execution_count": 3,
   "metadata": {},
   "outputs": [
    {
     "name": "stdout",
     "output_type": "stream",
     "text": [
      "(3333, 9) (3333,)\n"
     ]
    }
   ],
   "source": [
    "import pandas as pd\n",
    "import numpy as np\n",
    "\n",
    "# Carga de datos de archivos .csv\n",
    "url = 'https://raw.githubusercontent.com/albahnsen/MIAD_ML_and_NLP/main/datasets/churn.csv'\n",
    "data = pd.read_csv(url)\n",
    "\n",
    "# Separación de variables predictoras (X) y variable de interés (y)\n",
    "\n",
    "# Seleción de variables numéricas\n",
    "X = data.iloc[:, [1,2,6,7,8,9,10]].astype(float)\n",
    "X = X.join((data.iloc[:, [4,5]] == 'no').astype(float))\n",
    "\n",
    "y = (data.iloc[:, -1] == 'True.').astype(int)\n",
    "print(X.shape, y.shape)"
   ]
  },
  {
   "cell_type": "code",
   "execution_count": 4,
   "metadata": {},
   "outputs": [
    {
     "data": {
      "text/html": [
       "<div>\n",
       "<style scoped>\n",
       "    .dataframe tbody tr th:only-of-type {\n",
       "        vertical-align: middle;\n",
       "    }\n",
       "\n",
       "    .dataframe tbody tr th {\n",
       "        vertical-align: top;\n",
       "    }\n",
       "\n",
       "    .dataframe thead th {\n",
       "        text-align: right;\n",
       "    }\n",
       "</style>\n",
       "<table border=\"1\" class=\"dataframe\">\n",
       "  <thead>\n",
       "    <tr style=\"text-align: right;\">\n",
       "      <th></th>\n",
       "      <th>Account Length</th>\n",
       "      <th>Area Code</th>\n",
       "      <th>VMail Message</th>\n",
       "      <th>Day Mins</th>\n",
       "      <th>Day Calls</th>\n",
       "      <th>Day Charge</th>\n",
       "      <th>Eve Mins</th>\n",
       "      <th>Int'l Plan</th>\n",
       "      <th>VMail Plan</th>\n",
       "    </tr>\n",
       "  </thead>\n",
       "  <tbody>\n",
       "    <tr>\n",
       "      <th>0</th>\n",
       "      <td>128.0</td>\n",
       "      <td>415.0</td>\n",
       "      <td>25.0</td>\n",
       "      <td>265.1</td>\n",
       "      <td>110.0</td>\n",
       "      <td>45.07</td>\n",
       "      <td>197.4</td>\n",
       "      <td>1.0</td>\n",
       "      <td>0.0</td>\n",
       "    </tr>\n",
       "    <tr>\n",
       "      <th>1</th>\n",
       "      <td>107.0</td>\n",
       "      <td>415.0</td>\n",
       "      <td>26.0</td>\n",
       "      <td>161.6</td>\n",
       "      <td>123.0</td>\n",
       "      <td>27.47</td>\n",
       "      <td>195.5</td>\n",
       "      <td>1.0</td>\n",
       "      <td>0.0</td>\n",
       "    </tr>\n",
       "    <tr>\n",
       "      <th>2</th>\n",
       "      <td>137.0</td>\n",
       "      <td>415.0</td>\n",
       "      <td>0.0</td>\n",
       "      <td>243.4</td>\n",
       "      <td>114.0</td>\n",
       "      <td>41.38</td>\n",
       "      <td>121.2</td>\n",
       "      <td>1.0</td>\n",
       "      <td>1.0</td>\n",
       "    </tr>\n",
       "    <tr>\n",
       "      <th>3</th>\n",
       "      <td>84.0</td>\n",
       "      <td>408.0</td>\n",
       "      <td>0.0</td>\n",
       "      <td>299.4</td>\n",
       "      <td>71.0</td>\n",
       "      <td>50.90</td>\n",
       "      <td>61.9</td>\n",
       "      <td>0.0</td>\n",
       "      <td>1.0</td>\n",
       "    </tr>\n",
       "    <tr>\n",
       "      <th>4</th>\n",
       "      <td>75.0</td>\n",
       "      <td>415.0</td>\n",
       "      <td>0.0</td>\n",
       "      <td>166.7</td>\n",
       "      <td>113.0</td>\n",
       "      <td>28.34</td>\n",
       "      <td>148.3</td>\n",
       "      <td>0.0</td>\n",
       "      <td>1.0</td>\n",
       "    </tr>\n",
       "  </tbody>\n",
       "</table>\n",
       "</div>"
      ],
      "text/plain": [
       "   Account Length  Area Code  VMail Message  Day Mins  Day Calls  Day Charge  \\\n",
       "0           128.0      415.0           25.0     265.1      110.0       45.07   \n",
       "1           107.0      415.0           26.0     161.6      123.0       27.47   \n",
       "2           137.0      415.0            0.0     243.4      114.0       41.38   \n",
       "3            84.0      408.0            0.0     299.4       71.0       50.90   \n",
       "4            75.0      415.0            0.0     166.7      113.0       28.34   \n",
       "\n",
       "   Eve Mins  Int'l Plan  VMail Plan  \n",
       "0     197.4         1.0         0.0  \n",
       "1     195.5         1.0         0.0  \n",
       "2     121.2         1.0         1.0  \n",
       "3      61.9         0.0         1.0  \n",
       "4     148.3         0.0         1.0  "
      ]
     },
     "execution_count": 4,
     "metadata": {},
     "output_type": "execute_result"
    }
   ],
   "source": [
    "# Impresión datos\n",
    "X.head()"
   ]
  },
  {
   "cell_type": "code",
   "execution_count": 5,
   "metadata": {},
   "outputs": [
    {
     "data": {
      "text/html": [
       "<div>\n",
       "<style scoped>\n",
       "    .dataframe tbody tr th:only-of-type {\n",
       "        vertical-align: middle;\n",
       "    }\n",
       "\n",
       "    .dataframe tbody tr th {\n",
       "        vertical-align: top;\n",
       "    }\n",
       "\n",
       "    .dataframe thead th {\n",
       "        text-align: right;\n",
       "    }\n",
       "</style>\n",
       "<table border=\"1\" class=\"dataframe\">\n",
       "  <thead>\n",
       "    <tr style=\"text-align: right;\">\n",
       "      <th></th>\n",
       "      <th>count</th>\n",
       "      <th>percentage</th>\n",
       "    </tr>\n",
       "    <tr>\n",
       "      <th>Churn?</th>\n",
       "      <th></th>\n",
       "      <th></th>\n",
       "    </tr>\n",
       "  </thead>\n",
       "  <tbody>\n",
       "    <tr>\n",
       "      <th>0</th>\n",
       "      <td>2850</td>\n",
       "      <td>0.855086</td>\n",
       "    </tr>\n",
       "    <tr>\n",
       "      <th>1</th>\n",
       "      <td>483</td>\n",
       "      <td>0.144914</td>\n",
       "    </tr>\n",
       "  </tbody>\n",
       "</table>\n",
       "</div>"
      ],
      "text/plain": [
       "        count  percentage\n",
       "Churn?                   \n",
       "0        2850    0.855086\n",
       "1         483    0.144914"
      ]
     },
     "execution_count": 5,
     "metadata": {},
     "output_type": "execute_result"
    }
   ],
   "source": [
    "# Proporciones de las diferentes clases de variable de interés (y)\n",
    "y.value_counts().to_frame('count').assign(percentage = lambda x: x/x.sum())"
   ]
  },
  {
   "cell_type": "code",
   "execution_count": 6,
   "metadata": {},
   "outputs": [
    {
     "name": "stdout",
     "output_type": "stream",
     "text": [
      "(2233, 9) (1100, 9) (2233,) (1100,)\n"
     ]
    }
   ],
   "source": [
    "#  Separación de variables predictoras (X) y variable de interés (y) en set de entrenamiento y test\n",
    "from sklearn.model_selection import train_test_split\n",
    "X_train, X_test, y_train, y_test = train_test_split(X, y, test_size=0.33, random_state=42)\n",
    "\n",
    "print(X_train.shape, X_test.shape, y_train.shape, y_test.shape)"
   ]
  },
  {
   "cell_type": "code",
   "execution_count": 7,
   "metadata": {},
   "outputs": [
    {
     "data": {
      "text/plain": [
       "[array([1346, 1122, 1766, ..., 1248,  828,  470]),\n",
       " array([  54,  136, 1098, ...,   10,  642,  473]),\n",
       " array([1550, 1245, 1076, ..., 1638, 1841,  499]),\n",
       " array([1850, 1150, 1577, ..., 1792, 2031,  383]),\n",
       " array([2007,  727, 1044, ...,  372, 1696,   83]),\n",
       " array([ 269,   38, 2032, ..., 1018,  101,  434]),\n",
       " array([1148, 2205, 1541, ...,  171, 1367, 1825]),\n",
       " array([ 977, 1827,  659, ..., 1840, 1121, 1307]),\n",
       " array([2086,  512, 1923, ..., 1307, 1708, 1429]),\n",
       " array([2223, 2069, 2113, ...,  803,  257, 1151]),\n",
       " array([1543, 1220,  741, ..., 2207, 1158, 1371]),\n",
       " array([ 793,    6,  933, ..., 1888,  836,  254]),\n",
       " array([ 453, 1483, 1891, ..., 1490, 2134, 2061]),\n",
       " array([ 400,  680, 1595, ...,  881, 2123,   27]),\n",
       " array([1247, 2060,  434, ...,  605, 1545, 1050]),\n",
       " array([ 859,  953,    3, ...,  658, 2089,  886]),\n",
       " array([1510,  396,  315, ..., 1993, 1728, 1043]),\n",
       " array([ 107,  172, 2070, ...,  716,  773, 1798]),\n",
       " array([1632, 1026, 1874, ..., 2119,   46,  432]),\n",
       " array([2209,   85, 1925, ...,   56, 1116,  616]),\n",
       " array([ 231,  950,  903, ..., 1475, 1735,  900]),\n",
       " array([ 266,  444, 2090, ..., 1500, 1946,  657]),\n",
       " array([1366, 1352,  343, ...,  590, 1773,  109]),\n",
       " array([1065, 2107, 1855, ...,  129,  340,    7]),\n",
       " array([1593,  926,  976, ...,  939,  587,  762]),\n",
       " array([1853,   93,  458, ...,  467,  463, 1748]),\n",
       " array([1101, 1864,  870, ..., 1976, 1205, 1853]),\n",
       " array([ 421, 1111,  196, ...,  736, 2095, 1457]),\n",
       " array([ 903,  923, 1802, ..., 1231, 2026, 1107]),\n",
       " array([1095, 1808,  951, ...,  918, 1758, 1213]),\n",
       " array([1916, 1114, 1382, ...,  792,  604, 1963]),\n",
       " array([  68,  652,  330, ..., 2028, 1022, 1563]),\n",
       " array([  12, 2195,  488, ..., 1899, 1499, 1434]),\n",
       " array([1959, 1937, 1090, ...,  480, 2086, 2164]),\n",
       " array([1419, 2069, 1277, ...,  194, 1227,  261]),\n",
       " array([1893, 1722,  560, ..., 2114, 1810, 1273]),\n",
       " array([1453,   84, 1968, ...,  943,  455,  855]),\n",
       " array([1931, 1782, 1611, ..., 1647, 1069, 1154]),\n",
       " array([1464, 1993,  281, ..., 2133, 1521,  555]),\n",
       " array([ 456,  179, 1755, ...,  509,  336,  493]),\n",
       " array([ 682,  292, 1279, ..., 1752,  442, 2062]),\n",
       " array([ 751,  398,  328, ..., 1587, 1893,  510]),\n",
       " array([ 681, 1132,  155, ..., 2219,  228, 1076]),\n",
       " array([ 196, 1645, 2000, ..., 1052,  889,  491]),\n",
       " array([1693,  910, 2040, ...,  478, 1986,  531]),\n",
       " array([ 394,  874, 2069, ...,  207, 1573, 1503]),\n",
       " array([1718,  725, 1729, ..., 1094, 1720,  209]),\n",
       " array([1061, 1084,  121, ...,  909, 1987, 1805]),\n",
       " array([1721, 1606, 1468, ..., 1747,  124, 1329]),\n",
       " array([1594,  504,  356, ..., 1799, 1665,   93]),\n",
       " array([ 360, 1801, 1210, ..., 1600, 1362,  341]),\n",
       " array([ 553,  465,  895, ...,  391, 2158, 1028]),\n",
       " array([ 693,  214, 1298, ...,  844,  626, 2075]),\n",
       " array([ 236,  963, 2141, ...,  774, 2114,  446]),\n",
       " array([ 128,  645, 1969, ..., 1517, 1807,  868]),\n",
       " array([ 239, 2017,  800, ..., 1052, 1346,  110]),\n",
       " array([ 390, 1761, 1751, ..., 1805, 2041, 1210]),\n",
       " array([ 636,  171,  591, ..., 1180, 1559, 1051]),\n",
       " array([1451, 1947, 1303, ..., 1135, 1354, 1316]),\n",
       " array([ 425, 1952, 1788, ...,  306,  465, 1284]),\n",
       " array([1884, 2226, 2066, ...,  252, 1520, 1047]),\n",
       " array([1202,  499,  597, ..., 2115, 2146, 2069]),\n",
       " array([  61, 1358, 2065, ...,  399, 1154, 1330]),\n",
       " array([1695, 1731, 1371, ..., 1239, 1882, 1289]),\n",
       " array([ 384, 1285,  828, ...,  646, 1337, 2135]),\n",
       " array([ 407,  213, 1791, ..., 2075,  779, 1358]),\n",
       " array([ 934, 1468,  590, ..., 1058,  570, 1042]),\n",
       " array([1420,   72, 1877, ...,  354, 1832,  807]),\n",
       " array([1183, 1247,  697, ..., 1396,  193,    4]),\n",
       " array([ 862,  570,  933, ..., 1390, 1699,   63]),\n",
       " array([ 841,  117, 1315, ..., 1362, 1411, 1711]),\n",
       " array([ 539, 1623, 1698, ...,  758,  652,  377]),\n",
       " array([ 858,  999, 2090, ..., 2191,  363,  682]),\n",
       " array([  33, 1204,  388, ..., 1746, 1171,  210]),\n",
       " array([ 417, 1048, 1720, ..., 1632,  996, 2109]),\n",
       " array([ 810,  377, 1273, ...,  438, 1996, 1275]),\n",
       " array([1442,   91, 1546, ..., 1677, 1278,  295]),\n",
       " array([ 518, 2066,  529, ..., 1471,  129, 1114]),\n",
       " array([1364,  573, 2053, ..., 2153, 1248, 2039]),\n",
       " array([1780, 1579,  677, ...,  791,  383, 1744]),\n",
       " array([ 643, 1757,  941, ...,  653, 1987, 2122]),\n",
       " array([1799, 1840, 1607, ..., 1619,  864,  112]),\n",
       " array([1636, 1349, 2083, ...,  767, 1515,  239]),\n",
       " array([1161, 1137, 1238, ...,  232, 1778, 1481]),\n",
       " array([ 121, 2228,  890, ...,   96, 1134, 1144]),\n",
       " array([ 905,  843,  754, ...,  796, 1301, 1455]),\n",
       " array([ 177, 1555, 1328, ...,   37, 1667, 1699]),\n",
       " array([ 135, 1150, 1682, ..., 1458,  156, 1425]),\n",
       " array([ 266,  712,  624, ...,  247, 2135, 1133]),\n",
       " array([ 318, 1510,  948, ..., 1472, 1978,  377]),\n",
       " array([1090,  625,  180, ...,  188, 1561, 1276]),\n",
       " array([1732, 1268, 2031, ...,  119,  907,  764]),\n",
       " array([ 801,  296,  128, ...,  154, 1906,  861]),\n",
       " array([2103, 1194,   68, ..., 1919,  169,  316]),\n",
       " array([1208, 1277, 1875, ...,  663, 2090, 1888]),\n",
       " array([1932,  883, 1736, ...,   78, 1820,  373]),\n",
       " array([ 179, 1812, 1535, ...,   29,  557, 1478]),\n",
       " array([ 212,  227,  694, ..., 1388, 1906, 1426]),\n",
       " array([1162, 1735,  468, ..., 1920, 1116,  722]),\n",
       " array([ 581, 1300,  480, ...,  131,  976,  176]),\n",
       " array([ 735,  549,  723, ..., 1925,  628, 1321]),\n",
       " array([1523,  113,  756, ..., 1367, 2199,  740]),\n",
       " array([1647,  200, 1066, ...,  530, 1549, 1647]),\n",
       " array([ 229, 1343, 1782, ...,  603, 1766, 1050]),\n",
       " array([1299, 2041,  939, ...,  124, 1247, 1527]),\n",
       " array([1892, 1013, 2018, ...,  309,  226,  227]),\n",
       " array([ 370, 1334, 2193, ...,  426,  311,  547]),\n",
       " array([1708, 2032, 1124, ..., 1175, 1762,  137]),\n",
       " array([ 493,  380,  474, ...,  525, 1623, 1397]),\n",
       " array([ 205, 1118, 1825, ..., 1767,  884, 1239]),\n",
       " array([1502,   13,  682, ...,  221, 2039, 2164]),\n",
       " array([1273,  910,  881, ..., 1421, 1766,   94]),\n",
       " array([1407, 1762, 1584, ...,   59, 1367,  821]),\n",
       " array([1239, 1928, 2104, ..., 1926,  212,  384]),\n",
       " array([2024, 1773, 2176, ..., 1303, 1681,  738]),\n",
       " array([ 374,  290,  527, ..., 1285, 1383,    7]),\n",
       " array([ 965, 1758, 1179, ..., 2084, 1170,  151]),\n",
       " array([1110, 1927, 1210, ..., 1118, 2057,  398]),\n",
       " array([ 896, 2115, 1295, ..., 1454, 1760, 2070]),\n",
       " array([ 795, 1147, 1341, ...,  593, 1937, 2025]),\n",
       " array([1536,  910, 1301, ..., 1958, 1316,   92]),\n",
       " array([2119,  292,  255, ...,  129, 1262,  695]),\n",
       " array([ 135, 1653,  530, ..., 2157,  333,  141]),\n",
       " array([1422, 1325, 1550, ..., 2222, 1616, 1362]),\n",
       " array([1072, 1090, 1902, ...,  699, 2069, 2166]),\n",
       " array([2051, 1076, 1994, ...,  246, 1750, 1431]),\n",
       " array([ 713, 1028, 1774, ...,   26, 1896, 1052]),\n",
       " array([2218,  186,  110, ...,  896,  685, 1572]),\n",
       " array([2048, 1638, 1761, ..., 2062,  280,  370]),\n",
       " array([1462, 1158, 1952, ..., 1361, 1226, 1879]),\n",
       " array([  86,  674, 1793, ...,  334, 1885,  327]),\n",
       " array([2003,  834,  955, ...,  910, 1044,  152]),\n",
       " array([ 802, 2219, 1206, ..., 1963,  986, 2146]),\n",
       " array([1967,  158, 1632, ...,  887,  331, 1226]),\n",
       " array([2074, 1117, 1679, ...,  627, 1861,  184]),\n",
       " array([2004,  997,  144, ..., 1528, 1337,  160]),\n",
       " array([ 215, 1026,  863, ..., 1821, 2117, 1924]),\n",
       " array([1700,  893,  424, ..., 2164,  514,  300]),\n",
       " array([ 348,  634,  655, ...,  737,  151, 2231]),\n",
       " array([ 924, 1765,  817, ..., 1817,  650, 1293]),\n",
       " array([ 228,  814, 1070, ...,  699,  253,  249]),\n",
       " array([ 564,  606, 1260, ..., 1441, 2222,  203]),\n",
       " array([ 154,  458, 1734, ...,  716,  827,  634]),\n",
       " array([2044,  401, 1101, ..., 2075, 1663,  423]),\n",
       " array([1874, 1020, 2085, ..., 1831,  583,  498]),\n",
       " array([ 323,  884,  721, ..., 1484, 1714, 1404]),\n",
       " array([ 240,  904,  973, ...,   55,  935, 1339]),\n",
       " array([1263,  777,  220, ...,  568,  452, 1551]),\n",
       " array([1993,  426, 1587, ..., 1527, 1137, 1006]),\n",
       " array([  30, 1474, 1128, ...,  146, 2111, 2138]),\n",
       " array([ 131, 1880, 1793, ..., 1768,  134,  215]),\n",
       " array([ 412, 2017, 2184, ..., 1706, 1971, 2022]),\n",
       " array([2038,  904, 1088, ...,  478,  458, 1132]),\n",
       " array([1876,  582, 1580, ..., 1413,  749, 1163]),\n",
       " array([ 403, 1105, 1936, ...,  401, 1976, 1362]),\n",
       " array([ 351, 1706,  815, ...,  625,  626,  719]),\n",
       " array([1301,  482, 1552, ..., 2134, 1312,  313]),\n",
       " array([1784,  435,   38, ..., 1469, 1339,  717]),\n",
       " array([1790, 2075,  272, ...,  791,  751,   90]),\n",
       " array([1316, 1283, 1410, ..., 1283, 1830,  626]),\n",
       " array([ 955,  567,  743, ..., 2021, 1162,  544]),\n",
       " array([  90, 1324,  506, ...,  600,  867,  589]),\n",
       " array([1856,  247,  171, ..., 1591, 1665,  292]),\n",
       " array([1133, 1454, 1566, ...,  517,  691, 1059]),\n",
       " array([2153,   22, 1848, ..., 1928,  844, 1825]),\n",
       " array([1034, 1433, 2153, ..., 1080, 1923, 1684]),\n",
       " array([1496, 1803, 1857, ..., 1042, 2110, 1244]),\n",
       " array([1930,  345, 1495, ..., 1259,  453, 2065]),\n",
       " array([1954, 1027, 1007, ...,  890, 1907,  683]),\n",
       " array([1445, 1692, 1052, ..., 1978, 1371,  170]),\n",
       " array([ 206, 1126,   10, ..., 1734,  910,  522]),\n",
       " array([2000,  981, 1346, ..., 1278, 1140,  992]),\n",
       " array([1601, 2219,  386, ...,  813,  653, 1923]),\n",
       " array([ 271,  876, 1362, ..., 1603, 1993, 1119]),\n",
       " array([1645, 1295,  516, ...,  725, 1719,  574]),\n",
       " array([1049,  902, 1101, ..., 1182, 1051, 1172]),\n",
       " array([ 997, 1582,  494, ..., 1485,  783,  493]),\n",
       " array([1002,  880, 1129, ..., 1920,  474,   16]),\n",
       " array([ 971, 1974, 1894, ...,  902,  379,  208]),\n",
       " array([1463,   18, 1744, ..., 1835,  688, 1336]),\n",
       " array([1422,  283, 1970, ..., 1884, 2204, 1130]),\n",
       " array([ 316, 1669, 1752, ..., 1900,  307, 1461]),\n",
       " array([1743,  425, 1544, ..., 1291, 1998,  355]),\n",
       " array([1442,  670, 1550, ..., 1109,  736,  300]),\n",
       " array([2113, 1576, 1492, ...,  690,  366,  940]),\n",
       " array([  61, 2060, 1525, ...,  139, 2194, 2014]),\n",
       " array([1163,  638, 1355, ..., 1621,  928, 2046]),\n",
       " array([ 321, 1943, 2034, ..., 2102,  488, 1609]),\n",
       " array([1634, 1038, 1326, ..., 1638,  222, 1053]),\n",
       " array([1403,  387,  905, ..., 1183, 1808,  344]),\n",
       " array([1605, 1572, 1545, ...,  490,  516, 1045]),\n",
       " array([ 489, 1779,  160, ..., 2051, 1627, 2149]),\n",
       " array([1526, 1758, 1105, ...,  741,  437,   66]),\n",
       " array([1534,  107, 1701, ...,   35,  204, 1093]),\n",
       " array([2218,  643,  158, ...,  324,  401,  677]),\n",
       " array([ 154, 1504,  339, ..., 1461, 1503, 2032]),\n",
       " array([ 463, 1042,  474, ..., 1624, 2159,  118]),\n",
       " array([1006,  478,  324, ...,  729,  100, 1106]),\n",
       " array([1148,  177, 1119, ..., 1643,  834,  800]),\n",
       " array([1733,  883, 1754, ..., 1086, 2018,  907]),\n",
       " array([1514, 1962,  633, ..., 1466, 1472,  937]),\n",
       " array([1351,  908,  698, ...,  218,  189,  791]),\n",
       " array([  55, 1318,  954, ...,  500, 2198, 1426]),\n",
       " array([1381, 1676, 1157, ..., 1326, 1009, 1840]),\n",
       " array([1555, 1324,  589, ...,  701,  427, 1072]),\n",
       " array([1766, 1243,  598, ..., 1249,  379,  529]),\n",
       " array([ 732,  797,  924, ..., 1139, 1643, 1736]),\n",
       " array([ 759,  452,  260, ...,  459,  934, 1402]),\n",
       " array([ 517,  581,  815, ...,  137, 1295, 1576]),\n",
       " array([  76,  964, 1610, ...,  617,  270,  434]),\n",
       " array([2073,  722,  255, ...,    7, 1551,  860]),\n",
       " array([ 535,  339, 1458, ...,  445, 1103, 1095]),\n",
       " array([1596,  866,  105, ...,  339, 1784,  324]),\n",
       " array([1708, 1642, 1641, ..., 1251, 1472, 1348]),\n",
       " array([ 699, 1245, 1509, ..., 1915, 1606, 1386]),\n",
       " array([1545, 2046, 1109, ...,  200,  691,  640]),\n",
       " array([2153,  841, 1297, ..., 1290,  322,  808]),\n",
       " array([ 643,  996,  729, ..., 1705, 1510, 2177]),\n",
       " array([1971, 1287, 1242, ..., 1055, 2018,  622]),\n",
       " array([ 509,   94, 1862, ...,  840, 1451,  318]),\n",
       " array([1639, 1744, 2111, ...,  869, 1016,  899]),\n",
       " array([ 152,   17, 1557, ...,  150, 1714,   29]),\n",
       " array([ 111,  696, 1867, ..., 1343, 1358,  777]),\n",
       " array([1329, 1840,   54, ..., 1262, 2222, 1856]),\n",
       " array([ 318, 2184, 1937, ..., 1545,  643, 1337]),\n",
       " array([ 340,   35,   96, ..., 1507,  629, 2118]),\n",
       " array([ 485, 2031, 1011, ..., 2198, 1610, 1610]),\n",
       " array([1044,  804,   25, ...,  988,  202, 2051]),\n",
       " array([ 767, 1479,  379, ...,  269,  664, 2199]),\n",
       " array([ 580, 1019, 1671, ..., 2091, 1666,   45]),\n",
       " array([2137,  903,    4, ...,  945, 2199,  742]),\n",
       " array([1675,  500, 1866, ...,  919, 1141, 1372]),\n",
       " array([ 587,  919, 1090, ...,   43,  468, 2133]),\n",
       " array([ 149, 1711,  616, ..., 1810,  458,  124]),\n",
       " array([2165, 1338, 1633, ..., 2194, 1771, 1808]),\n",
       " array([1533, 1196,  609, ...,  798,   52, 1106]),\n",
       " array([1128,  705, 2006, ...,  574, 1405,  327]),\n",
       " array([ 130,  801, 1598, ..., 1543,  193, 1339]),\n",
       " array([1145, 1576, 1536, ..., 2076,  797, 1889]),\n",
       " array([2073, 1881,  536, ..., 1251,  143,  182]),\n",
       " array([2018,  643, 1712, ..., 1705, 1252,  329]),\n",
       " array([ 457, 1057,  120, ...,  329,  300,  315]),\n",
       " array([1162,  224, 1009, ..., 1427, 1448, 2218]),\n",
       " array([2077, 1386,  806, ...,  850,  432,  880]),\n",
       " array([738,  68, 471, ..., 306, 827, 343]),\n",
       " array([ 192, 1586,  458, ..., 1837, 1384, 1447]),\n",
       " array([ 844, 2068,  808, ..., 2083,  294, 1144]),\n",
       " array([1203, 1124, 1028, ..., 1616, 1223, 1451]),\n",
       " array([  62,  579,  883, ..., 2159,  317, 1713]),\n",
       " array([1377,  110, 1653, ..., 1558, 1128,  263]),\n",
       " array([2114,  270,  978, ...,   68, 2167,  354]),\n",
       " array([1887,  424,  205, ...,  466,  192, 1758]),\n",
       " array([ 875,  375,  695, ..., 1182, 1681, 1729]),\n",
       " array([1900,  367,  137, ...,  596, 2104, 1294]),\n",
       " array([1068, 1461, 1592, ...,  195,   37,  196]),\n",
       " array([ 892,  853,  254, ..., 2096,  545, 1133]),\n",
       " array([1185, 1326, 1037, ..., 1414, 1175, 2229]),\n",
       " array([1446,  151, 1312, ..., 1096,  354, 1353]),\n",
       " array([ 922, 1759, 1047, ..., 2104, 1928,  784]),\n",
       " array([1127,  579, 2186, ..., 1305,  841, 1324]),\n",
       " array([1460,  517,  619, ..., 1988, 1737,  446]),\n",
       " array([1195, 1376,  339, ..., 1901,   42,  843]),\n",
       " array([1276, 1089,  732, ...,  633,  263, 1511]),\n",
       " array([1393,  349, 1596, ..., 1598,  481,  747]),\n",
       " array([1251, 1365, 2092, ...,  545,  689, 1989]),\n",
       " array([ 260,  509, 1656, ...,  955,  858, 1186]),\n",
       " array([1808, 1083,  651, ..., 1601,  528, 1592]),\n",
       " array([ 603,  821, 1257, ..., 2161,  932, 1071]),\n",
       " array([1773, 1932, 1883, ..., 1566,  732, 1227]),\n",
       " array([1819, 1089,  119, ...,  173, 1711,  919]),\n",
       " array([1682,  981,  268, ...,  861,  427, 1421]),\n",
       " array([ 927, 1229, 1591, ..., 1493, 1401, 1974]),\n",
       " array([ 426,  428,  419, ..., 2176, 1176, 1682]),\n",
       " array([1091, 1230, 1469, ..., 1298, 2055, 1137]),\n",
       " array([ 553, 1252, 1919, ...,  978, 1866, 1083]),\n",
       " array([1488,   78,  780, ..., 1420,  228, 1416]),\n",
       " array([1200, 1002, 2188, ..., 1161, 2143,  202]),\n",
       " array([ 324, 2044,  216, ...,  636,  762, 1886]),\n",
       " array([  28,  284, 1959, ...,  799,  591, 2221]),\n",
       " array([ 692,  246,  451, ..., 1288, 1058, 1705]),\n",
       " array([1164,   34, 2161, ..., 1622, 1283,  762]),\n",
       " array([1029, 1963, 1981, ...,  876,  841,  970]),\n",
       " array([1505, 1277, 2102, ...,  333,  576, 1210]),\n",
       " array([1806,   99, 1057, ..., 1820,  447,  539]),\n",
       " array([ 601, 1304, 1964, ..., 1743,  110, 1248]),\n",
       " array([  62,  932, 1830, ..., 1813, 1978,  195]),\n",
       " array([1089,  412,  424, ..., 1430, 1775, 1511]),\n",
       " array([ 284, 1282, 1998, ...,  255, 1166, 1629]),\n",
       " array([1103, 1379, 1667, ...,  828, 1119, 1709]),\n",
       " array([ 304, 1702,  196, ...,   37,  254,  987]),\n",
       " array([ 355,  168, 1527, ..., 1749, 1350,  870]),\n",
       " array([ 474, 1260,  224, ...,  549, 2134, 1490]),\n",
       " array([ 449,  815, 1947, ...,  792,  332,  540]),\n",
       " array([2220, 1985,  151, ...,  991, 1132, 2003]),\n",
       " array([1216,  647, 1012, ..., 1854,  655, 1528]),\n",
       " array([1521,  222, 1099, ...,  233,  267, 2203]),\n",
       " array([ 350,  522, 2113, ..., 1615, 1862,  439]),\n",
       " array([   4,  573,  252, ...,   63,  979, 1522]),\n",
       " array([ 101,  575, 1852, ..., 1938,  877,  559]),\n",
       " array([ 874, 1271,  837, ..., 1933,  926, 1526]),\n",
       " array([ 204, 1356, 2004, ...,  170,  848, 2047]),\n",
       " array([1087, 1918,  646, ...,  178, 1526, 1919]),\n",
       " array([1796, 1008, 1263, ...,  980,  274, 1300]),\n",
       " array([2098,  976,  804, ..., 1081, 1338,  377]),\n",
       " array([2005, 1750, 1373, ..., 1113,  152, 1085]),\n",
       " array([2040, 1756, 1891, ..., 1419,  634, 1291]),\n",
       " array([ 827, 1791,  746, ..., 1302, 1967, 1144]),\n",
       " array([1314,  902,  410, ..., 2216, 1956,  624]),\n",
       " array([1224,  676,  215, ...,  899,  959,  134]),\n",
       " array([1644, 1054,  429, ...,  727,  612,  386]),\n",
       " array([ 767, 1909, 1773, ..., 1404,  299, 1810]),\n",
       " array([2176, 1058,  142, ..., 1597,  940,  404]),\n",
       " array([1999,  952,   63, ...,  146,  999, 2187]),\n",
       " array([ 502, 1925,  471, ..., 1054,  469, 2111]),\n",
       " array([ 904, 2058, 2215, ..., 1211, 1994, 1553]),\n",
       " array([1069, 1151,  548, ...,  627, 1108, 1674]),\n",
       " array([ 332, 1038,  578, ..., 1256,  222, 1341]),\n",
       " array([1272,  137,  867, ..., 1300,  960,  107]),\n",
       " array([1269,  906, 1252, ...,  877, 1136,  762]),\n",
       " array([1117, 1574, 1616, ..., 2162,  462,  923]),\n",
       " array([1417,  215, 1537, ..., 1647, 2194,  593]),\n",
       " array([1697,  350,  272, ...,  941, 1665, 1469]),\n",
       " array([2193, 1544,  519, ...,  994, 2097, 2057]),\n",
       " array([1110,  680, 1931, ..., 1490, 1488, 2082]),\n",
       " array([1929, 1288, 1687, ...,  906,  952, 1345]),\n",
       " array([ 931,   27,   62, ...,  683,  838, 2107]),\n",
       " array([1255,  481, 2103, ..., 2222,  792, 1333]),\n",
       " array([838, 150, 965, ..., 684, 928, 961]),\n",
       " array([ 540,  193,  307, ..., 1575, 1736, 1593]),\n",
       " array([1572, 1723, 1857, ...,  708, 1122, 1307]),\n",
       " array([ 615,  313, 1412, ...,  409,  317,   64]),\n",
       " array([1622, 1773, 2134, ...,   55, 1466, 1544]),\n",
       " array([1630,    0, 1552, ..., 1437, 2210, 1338]),\n",
       " array([  72, 1085,  819, ...,  183,  802,  318]),\n",
       " array([2219,  468, 1202, ...,  883, 1156,  637]),\n",
       " array([1538, 1763, 2002, ..., 1595, 1551,   88]),\n",
       " array([ 411,  930, 2052, ...,  611, 1776, 2146]),\n",
       " array([ 920, 1055,  496, ...,  695, 1716, 1048]),\n",
       " array([ 254,  402, 1749, ...,  841,  451,  749]),\n",
       " array([  96, 1399, 2022, ..., 1356,  897, 1199]),\n",
       " array([1695,   39,  181, ..., 1864, 1309, 1990]),\n",
       " array([1946,  140,  772, ..., 2059, 1811, 1385]),\n",
       " array([1908, 2210,  588, ...,  685,  158,  279]),\n",
       " array([ 302,  996, 1777, ...,  506, 1902, 1064]),\n",
       " array([1248, 1333,  451, ..., 2022, 1085, 1586]),\n",
       " array([ 714, 1813, 2054, ...,  224, 1426, 1943]),\n",
       " array([1463,  943,   29, ..., 1074, 1394,  629]),\n",
       " array([ 979, 1888,  301, ..., 1028, 1294, 1080]),\n",
       " array([ 489,  917, 1330, ..., 1588, 1787, 1378]),\n",
       " array([2100, 2085, 1449, ..., 1071, 1528, 1417]),\n",
       " array([ 267,  826, 1405, ..., 1129,  586,  579]),\n",
       " array([674, 501, 713, ..., 154, 925,  74]),\n",
       " array([   3,  976, 1555, ..., 1767,  704,  612]),\n",
       " array([ 871, 1023, 1443, ...,  673,   72,  386]),\n",
       " array([1507, 1970, 1289, ...,  597, 1323,  452]),\n",
       " array([ 358,  632, 1303, ..., 1641, 1075, 1079]),\n",
       " array([1541,  468,  179, ..., 1856, 1484, 2201]),\n",
       " array([ 524, 1671, 1964, ...,   23, 1654, 1953]),\n",
       " array([2218, 1928,  645, ...,  619, 2209, 1411]),\n",
       " array([ 676,   89,  598, ..., 2062,  146, 1191]),\n",
       " array([  62,  727, 1473, ..., 1456, 1559,  554]),\n",
       " array([ 921, 1016,  894, ..., 1397, 2014, 2137]),\n",
       " array([ 497,  485,  208, ...,  256,  301, 1649]),\n",
       " array([1388, 2067,  182, ...,  164, 2031, 2093]),\n",
       " array([1539,  656,  199, ..., 1489,  360, 1526]),\n",
       " array([ 406, 2130, 1862, ..., 2193, 1864,  304]),\n",
       " array([ 986, 2143,  653, ..., 1852, 1908,  440]),\n",
       " array([ 424, 1743,  146, ..., 1720, 1847, 1580]),\n",
       " array([2184, 2056,  945, ..., 1382,  763, 1983]),\n",
       " array([ 391, 1331, 1628, ..., 1235, 1086, 1563]),\n",
       " array([1053, 2010, 1810, ..., 1381, 1767,  576]),\n",
       " array([1389, 1876,  726, ..., 1668, 1169,  477]),\n",
       " array([ 845,  370, 2090, ..., 1583,  267, 1546]),\n",
       " array([ 315,  378, 1087, ..., 1198, 1086, 2144]),\n",
       " array([ 218,  467,  148, ...,  197, 1824, 1602]),\n",
       " array([1056,  780,  179, ...,  241, 1762,   94]),\n",
       " array([ 228, 1294,  550, ...,  296, 1340,  595]),\n",
       " array([2099,  188,  359, ..., 2101,  795, 1326]),\n",
       " array([1205, 1125,  734, ...,  108,  193, 1582]),\n",
       " array([1105, 2207, 1958, ..., 1115, 1518, 2045]),\n",
       " array([ 337,  920,  760, ..., 1012,   37, 1526]),\n",
       " array([1880,  116,  828, ...,  929, 1905,  857]),\n",
       " array([1200,  854,  938, ..., 1571, 1302, 1795]),\n",
       " array([1765, 2029,  627, ..., 1289, 2045, 1522]),\n",
       " array([ 792, 2020, 1073, ...,  754, 1537, 1094]),\n",
       " array([1810, 1334,  157, ...,   93,  649, 2227]),\n",
       " array([2019,  909, 1542, ...,  182, 1453,  760]),\n",
       " array([ 728, 1244, 1171, ...,  598, 2113, 2109]),\n",
       " array([1523, 1385, 1873, ...,  658,  946, 1213]),\n",
       " array([1759,  158, 1391, ...,  615, 1700,  346]),\n",
       " array([ 454,  379,  743, ..., 2106, 1006,  723]),\n",
       " array([2079, 1702,  895, ...,  142, 1644,  567]),\n",
       " array([1359,  457,   42, ..., 1343,   40, 1300]),\n",
       " array([ 722, 1087, 1866, ...,  824, 1820, 1988]),\n",
       " array([1923, 1096,  198, ...,  634,  133, 1153]),\n",
       " array([1020, 1355, 1961, ..., 2204,  834,  729]),\n",
       " array([1560,  344,  565, ...,  832,  861,  807]),\n",
       " array([ 546,  330, 1293, ..., 1668, 2216, 1724]),\n",
       " array([1081,  409,  788, ..., 1690,  890,  234]),\n",
       " array([1468,  963,  237, ..., 1816,  205, 1509]),\n",
       " array([ 270, 1021,  683, ..., 1969, 1752, 2023]),\n",
       " array([ 414,  819, 1770, ..., 1902, 1661,  354]),\n",
       " array([ 360, 1516, 2071, ..., 1280, 1452, 1804]),\n",
       " array([1922, 2110, 1049, ..., 1012, 2136,  218]),\n",
       " array([1706,  135,  342, ..., 1510, 1659, 1614]),\n",
       " array([1919,   34, 1121, ...,  884, 1308,  594]),\n",
       " array([ 103,  916,  558, ..., 1874,  814, 1997]),\n",
       " array([1084,  697, 1767, ..., 1746, 1810, 1926]),\n",
       " array([1970,  376, 1543, ...,  443, 1496,  340]),\n",
       " array([1075, 1083, 1770, ...,   27, 1488, 1560]),\n",
       " array([1466, 1404, 2119, ...,  462,  166, 1338]),\n",
       " array([1232,  823,  358, ..., 1177, 1140, 1818]),\n",
       " array([ 571,  770, 1778, ..., 1606, 2092, 1457]),\n",
       " array([ 238,  610, 2134, ..., 1217, 1044, 1762]),\n",
       " array([1555, 1861, 1902, ..., 1568,  265,  138]),\n",
       " array([ 375,  794, 2147, ...,  451, 1529, 2007]),\n",
       " array([1151, 2175, 1414, ...,  269, 1274,  362]),\n",
       " array([1482, 1981,  900, ...,  483, 1534, 1117]),\n",
       " array([1569, 1947,  422, ..., 2113, 1089, 1861]),\n",
       " array([ 968,  677, 2061, ..., 1994,  621, 1738]),\n",
       " array([1999,  203, 1725, ..., 1599,  863, 1660]),\n",
       " array([ 811, 1416, 1041, ...,  139, 1707,  900]),\n",
       " array([1796,  117,  109, ...,  322, 1934,   69]),\n",
       " array([ 472,  174, 1963, ..., 1324, 1335,  455]),\n",
       " array([1216, 1366, 1306, ...,  278,  956,  117]),\n",
       " array([ 104, 1851,  147, ..., 1283,  321,  789]),\n",
       " array([1685,  832, 1711, ..., 1962, 1662, 1934]),\n",
       " array([1629,  190,  898, ...,  255, 1647, 1296]),\n",
       " array([1859, 1592,  896, ...,  966, 1401, 1063]),\n",
       " array([1197,  394, 1112, ...,  130, 1344,  483]),\n",
       " array([ 300,  780, 1046, ..., 1225, 1821,  761]),\n",
       " array([ 140,  196, 1180, ..., 1580,  922,  528]),\n",
       " array([ 142,  696, 2186, ...,  206, 1656, 1604]),\n",
       " array([1194,  293, 1033, ...,  482,  769,  290]),\n",
       " array([ 796, 1213, 1130, ...,   80,  246, 1808]),\n",
       " array([2054, 1537, 2103, ..., 1218, 1393,  235]),\n",
       " array([1675,  963, 2173, ...,    2,  897, 1080]),\n",
       " array([1481,  679, 2184, ..., 1143, 1549, 2034]),\n",
       " array([ 707,  784, 1969, ..., 1174, 1013,  209]),\n",
       " array([  38, 1160, 1994, ...,  680, 1632, 1842]),\n",
       " array([1008,  127, 2142, ..., 1670, 1722,  840]),\n",
       " array([ 502,  147,  708, ..., 1359,  450,  217]),\n",
       " array([ 220,  721,  782, ..., 1160,  901,  124]),\n",
       " array([ 295, 2045, 1840, ..., 2001,  584, 2209]),\n",
       " array([ 395, 1983,  776, ...,  287,  201,  600]),\n",
       " array([1670,  925,  724, ...,  234, 1582,  654]),\n",
       " array([1056,   20,  214, ...,   82,  756, 2118]),\n",
       " array([1406, 1401, 1576, ...,  847,  105, 1628]),\n",
       " array([1110, 1438,  150, ..., 1076,  232, 1688]),\n",
       " array([1509, 1716, 1787, ..., 1992, 1064, 2048]),\n",
       " array([  40,  192,  641, ..., 2183,  197, 1318]),\n",
       " array([ 569,  496, 1844, ...,  384, 1369, 1783]),\n",
       " array([1176, 1687,  623, ..., 1882,  353, 1550]),\n",
       " array([1059,  939, 1629, ..., 1579,  869,  561]),\n",
       " array([ 969, 1178,  331, ..., 1830,  855, 1184]),\n",
       " array([2054,   22, 1685, ...,  247, 1801, 1811]),\n",
       " array([1998,  484, 1527, ...,  544,  626,   53]),\n",
       " array([ 884, 1076, 1861, ...,  308,  784, 1033]),\n",
       " array([ 372, 1179, 1360, ..., 2156, 1512,  280]),\n",
       " array([1853,  498, 1759, ...,  258, 1693,  221]),\n",
       " array([ 453, 2048,  420, ..., 1707, 1998, 1713]),\n",
       " array([ 689, 2119, 1355, ..., 1095,  836,  409]),\n",
       " array([2229, 2056,  474, ...,  249, 1333, 1960]),\n",
       " array([  72,  284,  791, ..., 1429, 2004, 1187]),\n",
       " array([  26,  325, 1877, ..., 1167, 1622, 2100]),\n",
       " array([1894,  634,  326, ..., 2216,  944, 1562]),\n",
       " array([1573, 1441,  230, ..., 1253,  146,  150]),\n",
       " array([ 758, 1051,  359, ...,   14,  572,  827]),\n",
       " array([422,  53, 262, ..., 646, 460, 665]),\n",
       " array([1367, 1487, 1698, ..., 1507, 1919, 1822]),\n",
       " array([1985, 1855,  821, ..., 2037, 1671, 2004]),\n",
       " array([  85, 1610,  324, ..., 1980, 1742,  680]),\n",
       " array([ 844,  895,  336, ..., 2033, 1587, 1795]),\n",
       " array([2023, 1185,  588, ...,  901,  301, 1240]),\n",
       " array([1279, 1004, 1669, ...,  559, 1880,  204]),\n",
       " array([ 823, 1540, 2003, ...,   65,  524,  671]),\n",
       " array([1758,  736, 1381, ..., 1175,  561,  922]),\n",
       " array([1584, 1346, 1778, ..., 1544,  620,  611]),\n",
       " array([ 722, 1145,  418, ...,  382,  144, 1959]),\n",
       " array([1504,  942, 1975, ...,  936, 1634,  552]),\n",
       " array([ 412,  106,  285, ..., 1726, 1989, 1092]),\n",
       " array([1285,  260, 1983, ..., 2012,  134,  211]),\n",
       " array([1374,  303, 1296, ...,    7,  900, 1623]),\n",
       " array([2061, 1140,  600, ..., 1381, 1792, 2178]),\n",
       " array([2002, 2167,  917, ...,  990,  959, 1817]),\n",
       " array([ 200, 1358, 2128, ...,  804,  100,  733]),\n",
       " array([ 404,   86, 1799, ...,  731, 1209,  796]),\n",
       " array([ 684, 1518,  328, ..., 1956,  472, 2211]),\n",
       " array([ 148,  362,   25, ..., 2225,  471, 1255]),\n",
       " array([2166, 1260, 1854, ...,  910, 1664,  277]),\n",
       " array([ 566, 1127, 1237, ..., 2218, 2056, 2042]),\n",
       " array([1457,   38, 1699, ...,  523, 1390,  741]),\n",
       " array([ 807,  446, 1933, ..., 1453, 1567, 2208]),\n",
       " array([1247, 1385, 1692, ...,  779,  813, 1128]),\n",
       " array([1392,  379, 1707, ...,  980, 1070,   91]),\n",
       " array([2207,  909, 1614, ...,  560,   45, 1958]),\n",
       " array([1751,  129, 2159, ..., 1318,  875, 1015]),\n",
       " array([1758, 1488, 1446, ..., 1869, 1561, 1036]),\n",
       " array([1282,  341, 1788, ..., 1677,  667,  145]),\n",
       " array([ 841,  467,  532, ..., 1781, 1606, 2112])]"
      ]
     },
     "execution_count": 7,
     "metadata": {},
     "output_type": "execute_result"
    }
   ],
   "source": [
    "# Creación de 500 muestras de bootstrap\n",
    "n_estimators = 500\n",
    "np.random.seed(123)\n",
    "\n",
    "n_samples = X_train.shape[0]\n",
    "samples = [np.random.choice(a=n_samples, size=n_samples, replace=True) for _ in range(n_estimators)]\n",
    "samples"
   ]
  },
  {
   "cell_type": "code",
   "execution_count": 8,
   "metadata": {},
   "outputs": [],
   "source": [
    "# Entrenamiento de 100 modelos con las 100 muestras boostrap\n",
    "\n",
    "from sklearn.tree import DecisionTreeClassifier\n",
    "\n",
    "np.random.seed(123) \n",
    "seeds = np.random.randint(1, 10000, size=n_estimators)\n",
    "\n",
    "trees = {}\n",
    "for i in range(n_estimators):\n",
    "    trees[i] = DecisionTreeClassifier(max_features=\"sqrt\", max_depth=None, random_state=seeds[i])\n",
    "    trees[i].fit(X_train.iloc[samples[i]], y_train.iloc[samples[i]])"
   ]
  },
  {
   "cell_type": "code",
   "execution_count": 9,
   "metadata": {},
   "outputs": [
    {
     "name": "stdout",
     "output_type": "stream",
     "text": [
      "(1100, 500)\n"
     ]
    },
    {
     "data": {
      "text/html": [
       "<div>\n",
       "<style scoped>\n",
       "    .dataframe tbody tr th:only-of-type {\n",
       "        vertical-align: middle;\n",
       "    }\n",
       "\n",
       "    .dataframe tbody tr th {\n",
       "        vertical-align: top;\n",
       "    }\n",
       "\n",
       "    .dataframe thead th {\n",
       "        text-align: right;\n",
       "    }\n",
       "</style>\n",
       "<table border=\"1\" class=\"dataframe\">\n",
       "  <thead>\n",
       "    <tr style=\"text-align: right;\">\n",
       "      <th></th>\n",
       "      <th>0</th>\n",
       "      <th>1</th>\n",
       "      <th>2</th>\n",
       "      <th>3</th>\n",
       "      <th>4</th>\n",
       "      <th>5</th>\n",
       "      <th>6</th>\n",
       "      <th>7</th>\n",
       "      <th>8</th>\n",
       "      <th>9</th>\n",
       "      <th>...</th>\n",
       "      <th>490</th>\n",
       "      <th>491</th>\n",
       "      <th>492</th>\n",
       "      <th>493</th>\n",
       "      <th>494</th>\n",
       "      <th>495</th>\n",
       "      <th>496</th>\n",
       "      <th>497</th>\n",
       "      <th>498</th>\n",
       "      <th>499</th>\n",
       "    </tr>\n",
       "  </thead>\n",
       "  <tbody>\n",
       "    <tr>\n",
       "      <th>438</th>\n",
       "      <td>0</td>\n",
       "      <td>0</td>\n",
       "      <td>0</td>\n",
       "      <td>0</td>\n",
       "      <td>0</td>\n",
       "      <td>0</td>\n",
       "      <td>0</td>\n",
       "      <td>0</td>\n",
       "      <td>0</td>\n",
       "      <td>0</td>\n",
       "      <td>...</td>\n",
       "      <td>0</td>\n",
       "      <td>0</td>\n",
       "      <td>0</td>\n",
       "      <td>0</td>\n",
       "      <td>0</td>\n",
       "      <td>0</td>\n",
       "      <td>0</td>\n",
       "      <td>0</td>\n",
       "      <td>0</td>\n",
       "      <td>0</td>\n",
       "    </tr>\n",
       "    <tr>\n",
       "      <th>2674</th>\n",
       "      <td>0</td>\n",
       "      <td>0</td>\n",
       "      <td>0</td>\n",
       "      <td>0</td>\n",
       "      <td>0</td>\n",
       "      <td>0</td>\n",
       "      <td>0</td>\n",
       "      <td>0</td>\n",
       "      <td>0</td>\n",
       "      <td>0</td>\n",
       "      <td>...</td>\n",
       "      <td>0</td>\n",
       "      <td>0</td>\n",
       "      <td>0</td>\n",
       "      <td>0</td>\n",
       "      <td>0</td>\n",
       "      <td>0</td>\n",
       "      <td>0</td>\n",
       "      <td>1</td>\n",
       "      <td>0</td>\n",
       "      <td>0</td>\n",
       "    </tr>\n",
       "    <tr>\n",
       "      <th>1345</th>\n",
       "      <td>0</td>\n",
       "      <td>0</td>\n",
       "      <td>0</td>\n",
       "      <td>1</td>\n",
       "      <td>0</td>\n",
       "      <td>0</td>\n",
       "      <td>0</td>\n",
       "      <td>0</td>\n",
       "      <td>0</td>\n",
       "      <td>1</td>\n",
       "      <td>...</td>\n",
       "      <td>0</td>\n",
       "      <td>1</td>\n",
       "      <td>0</td>\n",
       "      <td>0</td>\n",
       "      <td>0</td>\n",
       "      <td>1</td>\n",
       "      <td>1</td>\n",
       "      <td>0</td>\n",
       "      <td>1</td>\n",
       "      <td>1</td>\n",
       "    </tr>\n",
       "    <tr>\n",
       "      <th>1957</th>\n",
       "      <td>0</td>\n",
       "      <td>0</td>\n",
       "      <td>0</td>\n",
       "      <td>0</td>\n",
       "      <td>0</td>\n",
       "      <td>0</td>\n",
       "      <td>0</td>\n",
       "      <td>0</td>\n",
       "      <td>0</td>\n",
       "      <td>1</td>\n",
       "      <td>...</td>\n",
       "      <td>0</td>\n",
       "      <td>0</td>\n",
       "      <td>0</td>\n",
       "      <td>0</td>\n",
       "      <td>0</td>\n",
       "      <td>0</td>\n",
       "      <td>0</td>\n",
       "      <td>0</td>\n",
       "      <td>1</td>\n",
       "      <td>0</td>\n",
       "    </tr>\n",
       "    <tr>\n",
       "      <th>2148</th>\n",
       "      <td>0</td>\n",
       "      <td>0</td>\n",
       "      <td>0</td>\n",
       "      <td>0</td>\n",
       "      <td>0</td>\n",
       "      <td>0</td>\n",
       "      <td>0</td>\n",
       "      <td>0</td>\n",
       "      <td>0</td>\n",
       "      <td>0</td>\n",
       "      <td>...</td>\n",
       "      <td>0</td>\n",
       "      <td>0</td>\n",
       "      <td>0</td>\n",
       "      <td>0</td>\n",
       "      <td>0</td>\n",
       "      <td>0</td>\n",
       "      <td>0</td>\n",
       "      <td>0</td>\n",
       "      <td>1</td>\n",
       "      <td>0</td>\n",
       "    </tr>\n",
       "  </tbody>\n",
       "</table>\n",
       "<p>5 rows × 500 columns</p>\n",
       "</div>"
      ],
      "text/plain": [
       "     0   1   2   3   4   5   6   7   8   9    ... 490 491 492 493 494 495 496  \\\n",
       "438    0   0   0   0   0   0   0   0   0   0  ...   0   0   0   0   0   0   0   \n",
       "2674   0   0   0   0   0   0   0   0   0   0  ...   0   0   0   0   0   0   0   \n",
       "1345   0   0   0   1   0   0   0   0   0   1  ...   0   1   0   0   0   1   1   \n",
       "1957   0   0   0   0   0   0   0   0   0   1  ...   0   0   0   0   0   0   0   \n",
       "2148   0   0   0   0   0   0   0   0   0   0  ...   0   0   0   0   0   0   0   \n",
       "\n",
       "     497 498 499  \n",
       "438    0   0   0  \n",
       "2674   1   0   0  \n",
       "1345   0   1   1  \n",
       "1957   0   1   0  \n",
       "2148   0   1   0  \n",
       "\n",
       "[5 rows x 500 columns]"
      ]
     },
     "execution_count": 9,
     "metadata": {},
     "output_type": "execute_result"
    }
   ],
   "source": [
    "# Predicción para los datos del set de test con cada modelo\n",
    "y_pred_df = pd.DataFrame(index=X_test.index, columns=list(range(n_estimators)))\n",
    "for i in range(n_estimators):\n",
    "    y_pred_df.iloc[:, i] = trees[i].predict(X_test)\n",
    "print(y_pred_df.shape)\n",
    "y_pred_df.head()\n"
   ]
  },
  {
   "cell_type": "code",
   "execution_count": 10,
   "metadata": {},
   "outputs": [
    {
     "data": {
      "text/plain": [
       "438      19\n",
       "2674     26\n",
       "1345    186\n",
       "1957     53\n",
       "2148     19\n",
       "3106     21\n",
       "1786     91\n",
       "321      26\n",
       "3082     38\n",
       "2240     18\n",
       "1910     81\n",
       "2124     77\n",
       "2351     19\n",
       "1736    474\n",
       "879      30\n",
       "dtype: object"
      ]
     },
     "execution_count": 10,
     "metadata": {},
     "output_type": "execute_result"
    }
   ],
   "source": [
    "# Impresión de la cantidad de modelos que predijeron 1 para las primeras 15 observaciones\n",
    "y_pred_df.sum(axis=1)[:15]"
   ]
  },
  {
   "cell_type": "code",
   "execution_count": 11,
   "metadata": {},
   "outputs": [
    {
     "data": {
      "text/plain": [
       "438     0\n",
       "2674    0\n",
       "1345    0\n",
       "1957    0\n",
       "2148    0\n",
       "3106    0\n",
       "1786    0\n",
       "321     0\n",
       "3082    0\n",
       "2240    0\n",
       "1910    0\n",
       "2124    0\n",
       "2351    0\n",
       "1736    1\n",
       "879     0\n",
       "dtype: int64"
      ]
     },
     "execution_count": 11,
     "metadata": {},
     "output_type": "execute_result"
    }
   ],
   "source": [
    "# Votación mayoritaria\n",
    "y_pred = (y_pred_df.sum(axis=1) >= (n_estimators / 2)).astype(int)\n",
    "y_pred[:15]\n"
   ]
  },
  {
   "cell_type": "code",
   "execution_count": 12,
   "metadata": {},
   "outputs": [
    {
     "data": {
      "text/plain": [
       "0.5483870967741935"
      ]
     },
     "execution_count": 12,
     "metadata": {},
     "output_type": "execute_result"
    }
   ],
   "source": [
    "# Desempeño al hacer votación mayoritaria\n",
    "from sklearn import metrics\n",
    "metrics.f1_score(y_pred, y_test)\n"
   ]
  },
  {
   "cell_type": "code",
   "execution_count": 13,
   "metadata": {},
   "outputs": [
    {
     "data": {
      "text/plain": [
       "0.8981818181818182"
      ]
     },
     "execution_count": 13,
     "metadata": {},
     "output_type": "execute_result"
    }
   ],
   "source": [
    "# Desempeño al hacer votación mayoritaria\n",
    "metrics.accuracy_score(y_pred, y_test)"
   ]
  },
  {
   "cell_type": "markdown",
   "metadata": {},
   "source": [
    "## Combinación de clasificadores - Votación mayoritaria con sklearn"
   ]
  },
  {
   "cell_type": "code",
   "execution_count": 16,
   "metadata": {},
   "outputs": [],
   "source": [
    "# Definición del modelo BaggingClassifier de la libreria sklearn\n",
    "from sklearn.ensemble import BaggingClassifier\n",
    "clf = BaggingClassifier(estimator=DecisionTreeClassifier(), n_estimators=100, bootstrap=True,\n",
    "                        random_state=42, n_jobs=-1, oob_score=True)"
   ]
  },
  {
   "cell_type": "code",
   "execution_count": 17,
   "metadata": {},
   "outputs": [
    {
     "data": {
      "text/plain": [
       "(0.5241935483870968, 0.8927272727272727)"
      ]
     },
     "execution_count": 17,
     "metadata": {},
     "output_type": "execute_result"
    }
   ],
   "source": [
    "# Predicción y desempeño al hacer votación mayoritaria\n",
    "clf.fit(X_train, y_train)\n",
    "y_pred = clf.predict(X_test)\n",
    "metrics.f1_score(y_pred, y_test), metrics.accuracy_score(y_pred, y_test)"
   ]
  },
  {
   "cell_type": "markdown",
   "metadata": {},
   "source": [
    "## Combinación de clasificadores - Votación ponderada manual"
   ]
  },
  {
   "cell_type": "code",
   "execution_count": null,
   "metadata": {},
   "outputs": [],
   "source": [
    "samples_oob = []\n",
    "# Obtención de las observaciones fuera de la bolsa \"out-of-bag\" para cada muestra\n",
    "for sample in samples:\n",
    "    samples_oob.append(sorted(set(range(n_samples)) - set(sample)))"
   ]
  },
  {
   "cell_type": "code",
   "execution_count": null,
   "metadata": {},
   "outputs": [],
   "source": [
    "# Estimación de los errores OOB para cada clasificador\n",
    "errors = np.zeros(n_estimators)\n",
    "\n",
    "for i in range(n_estimators):\n",
    "    y_pred_ = trees[i].predict(X_train.iloc[samples_oob[i]])\n",
    "    errors[i] = 1 - metrics.accuracy_score(y_train.iloc[samples_oob[i]], y_pred_)"
   ]
  },
  {
   "cell_type": "code",
   "execution_count": null,
   "metadata": {},
   "outputs": [],
   "source": [
    "# Visualización de OOB para cada árbol\n",
    "%matplotlib inline\n",
    "import matplotlib.pyplot as plt\n",
    "plt.style.use('fivethirtyeight')\n",
    "\n",
    "plt.scatter(range(n_estimators), errors)\n",
    "plt.xlim([0, n_estimators])\n",
    "plt.title('OOB error of each tree')"
   ]
  },
  {
   "cell_type": "code",
   "execution_count": null,
   "metadata": {},
   "outputs": [],
   "source": [
    "# Obtención de los pesos alpha de cada modelo de acuerdo al error OOB\n",
    "alpha = (1 - errors) / (1 - errors).sum()"
   ]
  },
  {
   "cell_type": "code",
   "execution_count": null,
   "metadata": {},
   "outputs": [],
   "source": [
    "# Ponderación de las predicciones con los pesos alpha\n",
    "weighted_sum_1 = ((y_pred_df) * alpha).sum(axis=1)\n",
    "weighted_sum_1.head(20)"
   ]
  },
  {
   "cell_type": "code",
   "execution_count": null,
   "metadata": {},
   "outputs": [],
   "source": [
    "# Desempeño al hacer votación ponderada\n",
    "y_pred = (weighted_sum_1 >= 0.5).astype(np.int)\n",
    "metrics.f1_score(y_pred, y_test), metrics.accuracy_score(y_pred, y_test)"
   ]
  },
  {
   "cell_type": "markdown",
   "metadata": {},
   "source": [
    "## Combinación de clasificadores - Votación ponderada con sklearn"
   ]
  },
  {
   "cell_type": "code",
   "execution_count": null,
   "metadata": {},
   "outputs": [],
   "source": [
    "# Definición del modelo BaggingClassifier de la libreria sklearn\n",
    "clf = BaggingClassifier(base_estimator=DecisionTreeClassifier(), n_estimators=100, bootstrap=True,\n",
    "                        random_state=42, n_jobs=-1, oob_score=True)\n",
    "\n",
    "# Predicción y desempeño al hacer votación mayoritaria\n",
    "clf.fit(X_train, y_train)\n",
    "y_pred = clf.predict(X_test)\n",
    "metrics.f1_score(y_pred, y_test), metrics.accuracy_score(y_pred, y_test)"
   ]
  },
  {
   "cell_type": "code",
   "execution_count": null,
   "metadata": {},
   "outputs": [],
   "source": [
    "# Obtención de los pesos alpha de cada modelo de acuerdo al error OOB\n",
    "errors = np.zeros(clf.n_estimators)\n",
    "y_pred_all_ = np.zeros((X_test.shape[0], clf.n_estimators))\n",
    "\n",
    "for i in range(clf.n_estimators):\n",
    "    oob_sample = ~clf.estimators_samples_[i]\n",
    "    y_pred_ = clf.estimators_[i].predict(X_train.values[oob_sample])\n",
    "    errors[i] = metrics.accuracy_score(y_pred_, y_train.values[oob_sample])\n",
    "    y_pred_all_[:, i] = clf.estimators_[i].predict(X_test)\n",
    "    \n",
    "alpha = (1 - errors) / (1 - errors).sum()\n",
    "y_pred = (np.sum(y_pred_all_ * alpha, axis=1) >= 0.5).astype(np.int)"
   ]
  },
  {
   "cell_type": "code",
   "execution_count": null,
   "metadata": {},
   "outputs": [],
   "source": [
    "# Desempeño al hacer votación ponderada\n",
    "metrics.f1_score(y_pred, y_test), metrics.accuracy_score(y_pred, y_test)"
   ]
  }
 ],
 "metadata": {
  "kernelspec": {
   "display_name": "Python 3 (ipykernel)",
   "language": "python",
   "name": "python3"
  },
  "language_info": {
   "codemirror_mode": {
    "name": "ipython",
    "version": 3
   },
   "file_extension": ".py",
   "mimetype": "text/x-python",
   "name": "python",
   "nbconvert_exporter": "python",
   "pygments_lexer": "ipython3",
   "version": "3.11.0"
  }
 },
 "nbformat": 4,
 "nbformat_minor": 4
}
