{
 "cells": [
  {
   "cell_type": "markdown",
   "metadata": {},
   "source": [
    "![image info](https://raw.githubusercontent.com/albahnsen/MIAD_ML_and_NLP/main/images/banner_1.png)"
   ]
  },
  {
   "cell_type": "markdown",
   "metadata": {},
   "source": [
    "# Taller: Análisis de sentimientos y técnicas de NLP\n",
    "\n",
    "En este taller podrán poner en práctica sus conocimientos sobre las diferentes técnicas para el procesamiento de lenguaje natural. El taller está constituido por 5 puntos, en los cuales deberan seguir las intrucciones de cada numeral para su desarrollo."
   ]
  },
  {
   "cell_type": "markdown",
   "metadata": {},
   "source": [
    "## Datos predicción sentimientos de viajeros en Twitter\n",
    "\n",
    "En este taller se usará el conjunto de datos de sentimientos sobre distintas aerolíneas de EE.UU. provenientes de Twitter. Cada observación contiene si el sentimiento de los tweets es positivo, neutral o negativo teniendo en cuenta distintas variables como aerolínea y las razones de los sentimientos negativos (como \"retraso en el vuelo\" o \"servicio grosero\"). El objetivo es predecir el sentimiento asociado a cada tweet. Para más detalles pueden visitar el siguiente enlace: [datos](https://www.kaggle.com/crowdflower/twitter-airline-sentiment)."
   ]
  },
  {
   "cell_type": "code",
   "execution_count": null,
   "metadata": {},
   "outputs": [],
   "source": [
    "import warnings\n",
    "warnings.filterwarnings('ignore')"
   ]
  },
  {
   "cell_type": "code",
   "execution_count": 1,
   "metadata": {},
   "outputs": [],
   "source": [
    "# Importación de librerías\n",
    "import pandas as pd\n",
    "import numpy as np\n",
    "import matplotlib.pyplot as plt\n",
    "import seaborn as sns\n",
    "\n",
    "%matplotlib inline\n",
    "sns.set_style('darkgrid')\n",
    "plt.style.use('ggplot')"
   ]
  },
  {
   "cell_type": "code",
   "execution_count": 2,
   "metadata": {},
   "outputs": [
    {
     "name": "stdout",
     "output_type": "stream",
     "text": [
      "<class 'pandas.core.frame.DataFrame'>\n",
      "Index: 14640 entries, 570306133677760513 to 569587140490866689\n",
      "Data columns (total 14 columns):\n",
      " #   Column                        Non-Null Count  Dtype  \n",
      "---  ------                        --------------  -----  \n",
      " 0   airline_sentiment             14640 non-null  object \n",
      " 1   airline_sentiment_confidence  14640 non-null  float64\n",
      " 2   negativereason                9178 non-null   object \n",
      " 3   negativereason_confidence     10522 non-null  float64\n",
      " 4   airline                       14640 non-null  object \n",
      " 5   airline_sentiment_gold        40 non-null     object \n",
      " 6   name                          14640 non-null  object \n",
      " 7   negativereason_gold           32 non-null     object \n",
      " 8   retweet_count                 14640 non-null  int64  \n",
      " 9   text                          14640 non-null  object \n",
      " 10  tweet_coord                   1019 non-null   object \n",
      " 11  tweet_created                 14640 non-null  object \n",
      " 12  tweet_location                9907 non-null   object \n",
      " 13  user_timezone                 9820 non-null   object \n",
      "dtypes: float64(2), int64(1), object(11)\n",
      "memory usage: 1.7+ MB\n",
      "None\n"
     ]
    },
    {
     "data": {
      "text/html": [
       "<div>\n",
       "<style scoped>\n",
       "    .dataframe tbody tr th:only-of-type {\n",
       "        vertical-align: middle;\n",
       "    }\n",
       "\n",
       "    .dataframe tbody tr th {\n",
       "        vertical-align: top;\n",
       "    }\n",
       "\n",
       "    .dataframe thead th {\n",
       "        text-align: right;\n",
       "    }\n",
       "</style>\n",
       "<table border=\"1\" class=\"dataframe\">\n",
       "  <thead>\n",
       "    <tr style=\"text-align: right;\">\n",
       "      <th></th>\n",
       "      <th>airline_sentiment</th>\n",
       "      <th>airline_sentiment_confidence</th>\n",
       "      <th>negativereason</th>\n",
       "      <th>negativereason_confidence</th>\n",
       "      <th>airline</th>\n",
       "      <th>airline_sentiment_gold</th>\n",
       "      <th>name</th>\n",
       "      <th>negativereason_gold</th>\n",
       "      <th>retweet_count</th>\n",
       "      <th>text</th>\n",
       "      <th>tweet_coord</th>\n",
       "      <th>tweet_created</th>\n",
       "      <th>tweet_location</th>\n",
       "      <th>user_timezone</th>\n",
       "    </tr>\n",
       "    <tr>\n",
       "      <th>tweet_id</th>\n",
       "      <th></th>\n",
       "      <th></th>\n",
       "      <th></th>\n",
       "      <th></th>\n",
       "      <th></th>\n",
       "      <th></th>\n",
       "      <th></th>\n",
       "      <th></th>\n",
       "      <th></th>\n",
       "      <th></th>\n",
       "      <th></th>\n",
       "      <th></th>\n",
       "      <th></th>\n",
       "      <th></th>\n",
       "    </tr>\n",
       "  </thead>\n",
       "  <tbody>\n",
       "    <tr>\n",
       "      <th>570306133677760513</th>\n",
       "      <td>neutral</td>\n",
       "      <td>1.0000</td>\n",
       "      <td>NaN</td>\n",
       "      <td>NaN</td>\n",
       "      <td>Virgin America</td>\n",
       "      <td>NaN</td>\n",
       "      <td>cairdin</td>\n",
       "      <td>NaN</td>\n",
       "      <td>0</td>\n",
       "      <td>@VirginAmerica What @dhepburn said.</td>\n",
       "      <td>NaN</td>\n",
       "      <td>2015-02-24 11:35:52 -0800</td>\n",
       "      <td>NaN</td>\n",
       "      <td>Eastern Time (US &amp; Canada)</td>\n",
       "    </tr>\n",
       "    <tr>\n",
       "      <th>570301130888122368</th>\n",
       "      <td>positive</td>\n",
       "      <td>0.3486</td>\n",
       "      <td>NaN</td>\n",
       "      <td>0.0000</td>\n",
       "      <td>Virgin America</td>\n",
       "      <td>NaN</td>\n",
       "      <td>jnardino</td>\n",
       "      <td>NaN</td>\n",
       "      <td>0</td>\n",
       "      <td>@VirginAmerica plus you've added commercials t...</td>\n",
       "      <td>NaN</td>\n",
       "      <td>2015-02-24 11:15:59 -0800</td>\n",
       "      <td>NaN</td>\n",
       "      <td>Pacific Time (US &amp; Canada)</td>\n",
       "    </tr>\n",
       "    <tr>\n",
       "      <th>570301083672813571</th>\n",
       "      <td>neutral</td>\n",
       "      <td>0.6837</td>\n",
       "      <td>NaN</td>\n",
       "      <td>NaN</td>\n",
       "      <td>Virgin America</td>\n",
       "      <td>NaN</td>\n",
       "      <td>yvonnalynn</td>\n",
       "      <td>NaN</td>\n",
       "      <td>0</td>\n",
       "      <td>@VirginAmerica I didn't today... Must mean I n...</td>\n",
       "      <td>NaN</td>\n",
       "      <td>2015-02-24 11:15:48 -0800</td>\n",
       "      <td>Lets Play</td>\n",
       "      <td>Central Time (US &amp; Canada)</td>\n",
       "    </tr>\n",
       "    <tr>\n",
       "      <th>570301031407624196</th>\n",
       "      <td>negative</td>\n",
       "      <td>1.0000</td>\n",
       "      <td>Bad Flight</td>\n",
       "      <td>0.7033</td>\n",
       "      <td>Virgin America</td>\n",
       "      <td>NaN</td>\n",
       "      <td>jnardino</td>\n",
       "      <td>NaN</td>\n",
       "      <td>0</td>\n",
       "      <td>@VirginAmerica it's really aggressive to blast...</td>\n",
       "      <td>NaN</td>\n",
       "      <td>2015-02-24 11:15:36 -0800</td>\n",
       "      <td>NaN</td>\n",
       "      <td>Pacific Time (US &amp; Canada)</td>\n",
       "    </tr>\n",
       "    <tr>\n",
       "      <th>570300817074462722</th>\n",
       "      <td>negative</td>\n",
       "      <td>1.0000</td>\n",
       "      <td>Can't Tell</td>\n",
       "      <td>1.0000</td>\n",
       "      <td>Virgin America</td>\n",
       "      <td>NaN</td>\n",
       "      <td>jnardino</td>\n",
       "      <td>NaN</td>\n",
       "      <td>0</td>\n",
       "      <td>@VirginAmerica and it's a really big bad thing...</td>\n",
       "      <td>NaN</td>\n",
       "      <td>2015-02-24 11:14:45 -0800</td>\n",
       "      <td>NaN</td>\n",
       "      <td>Pacific Time (US &amp; Canada)</td>\n",
       "    </tr>\n",
       "  </tbody>\n",
       "</table>\n",
       "</div>"
      ],
      "text/plain": [
       "                   airline_sentiment  airline_sentiment_confidence  \\\n",
       "tweet_id                                                             \n",
       "570306133677760513           neutral                        1.0000   \n",
       "570301130888122368          positive                        0.3486   \n",
       "570301083672813571           neutral                        0.6837   \n",
       "570301031407624196          negative                        1.0000   \n",
       "570300817074462722          negative                        1.0000   \n",
       "\n",
       "                   negativereason  negativereason_confidence         airline  \\\n",
       "tweet_id                                                                       \n",
       "570306133677760513            NaN                        NaN  Virgin America   \n",
       "570301130888122368            NaN                     0.0000  Virgin America   \n",
       "570301083672813571            NaN                        NaN  Virgin America   \n",
       "570301031407624196     Bad Flight                     0.7033  Virgin America   \n",
       "570300817074462722     Can't Tell                     1.0000  Virgin America   \n",
       "\n",
       "                   airline_sentiment_gold        name negativereason_gold  \\\n",
       "tweet_id                                                                    \n",
       "570306133677760513                    NaN     cairdin                 NaN   \n",
       "570301130888122368                    NaN    jnardino                 NaN   \n",
       "570301083672813571                    NaN  yvonnalynn                 NaN   \n",
       "570301031407624196                    NaN    jnardino                 NaN   \n",
       "570300817074462722                    NaN    jnardino                 NaN   \n",
       "\n",
       "                    retweet_count  \\\n",
       "tweet_id                            \n",
       "570306133677760513              0   \n",
       "570301130888122368              0   \n",
       "570301083672813571              0   \n",
       "570301031407624196              0   \n",
       "570300817074462722              0   \n",
       "\n",
       "                                                                 text  \\\n",
       "tweet_id                                                                \n",
       "570306133677760513                @VirginAmerica What @dhepburn said.   \n",
       "570301130888122368  @VirginAmerica plus you've added commercials t...   \n",
       "570301083672813571  @VirginAmerica I didn't today... Must mean I n...   \n",
       "570301031407624196  @VirginAmerica it's really aggressive to blast...   \n",
       "570300817074462722  @VirginAmerica and it's a really big bad thing...   \n",
       "\n",
       "                   tweet_coord              tweet_created tweet_location  \\\n",
       "tweet_id                                                                   \n",
       "570306133677760513         NaN  2015-02-24 11:35:52 -0800            NaN   \n",
       "570301130888122368         NaN  2015-02-24 11:15:59 -0800            NaN   \n",
       "570301083672813571         NaN  2015-02-24 11:15:48 -0800      Lets Play   \n",
       "570301031407624196         NaN  2015-02-24 11:15:36 -0800            NaN   \n",
       "570300817074462722         NaN  2015-02-24 11:14:45 -0800            NaN   \n",
       "\n",
       "                                 user_timezone  \n",
       "tweet_id                                        \n",
       "570306133677760513  Eastern Time (US & Canada)  \n",
       "570301130888122368  Pacific Time (US & Canada)  \n",
       "570301083672813571  Central Time (US & Canada)  \n",
       "570301031407624196  Pacific Time (US & Canada)  \n",
       "570300817074462722  Pacific Time (US & Canada)  "
      ]
     },
     "execution_count": 2,
     "metadata": {},
     "output_type": "execute_result"
    }
   ],
   "source": [
    "# Lectura de la información de archivo .zip\n",
    "tweets = pd.read_csv('https://raw.githubusercontent.com/albahnsen/MIAD_ML_and_NLP/main/datasets/Tweets.zip', index_col=0)\n",
    "\n",
    "# Visualización dataset\n",
    "print(tweets.info())\n",
    "tweets.head()"
   ]
  },
  {
   "cell_type": "code",
   "execution_count": 3,
   "metadata": {},
   "outputs": [
    {
     "data": {
      "text/plain": [
       "(14640, 14)"
      ]
     },
     "execution_count": 3,
     "metadata": {},
     "output_type": "execute_result"
    }
   ],
   "source": [
    "# Impresión tamaño del cojunto de datos\n",
    "tweets.shape"
   ]
  },
  {
   "cell_type": "markdown",
   "metadata": {},
   "source": [
    "### Análisis descriptivo"
   ]
  },
  {
   "cell_type": "code",
   "execution_count": 4,
   "metadata": {},
   "outputs": [
    {
     "data": {
      "text/plain": [
       "airline_sentiment\n",
       "negative    9178\n",
       "neutral     3099\n",
       "positive    2363\n",
       "Name: count, dtype: int64"
      ]
     },
     "execution_count": 4,
     "metadata": {},
     "output_type": "execute_result"
    }
   ],
   "source": [
    "# Cuenta de tweets por cada sentimiento\n",
    "tweets['airline_sentiment'].value_counts()"
   ]
  },
  {
   "cell_type": "code",
   "execution_count": 5,
   "metadata": {},
   "outputs": [
    {
     "data": {
      "text/plain": [
       "airline\n",
       "United            3822\n",
       "US Airways        2913\n",
       "American          2759\n",
       "Southwest         2420\n",
       "Delta             2222\n",
       "Virgin America     504\n",
       "Name: count, dtype: int64"
      ]
     },
     "execution_count": 5,
     "metadata": {},
     "output_type": "execute_result"
    }
   ],
   "source": [
    "# Cuenta de tweets por cada aerolínea\n",
    "tweets['airline'].value_counts()"
   ]
  },
  {
   "cell_type": "code",
   "execution_count": 6,
   "metadata": {},
   "outputs": [
    {
     "data": {
      "image/png": "[encoded data removed]",
      "text/plain": [
       "<Figure size 1000x600 with 1 Axes>"
      ]
     },
     "metadata": {},
     "output_type": "display_data"
    }
   ],
   "source": [
    "# Plot con cuenta de tweets por cada aerolínea y sentimiento\n",
    "pd.crosstab(index = tweets[\"airline\"],columns = tweets[\"airline_sentiment\"]).plot(kind='bar',figsize=(10, 6),alpha=0.5,rot=0,stacked=True,title=\"Sentiminetos por aerolínea\");"
   ]
  },
  {
   "cell_type": "code",
   "execution_count": 7,
   "metadata": {},
   "outputs": [
    {
     "name": "stdout",
     "output_type": "stream",
     "text": [
      "airline_sentiment  negative  neutral  positive\n",
      "airline                                       \n",
      "American               1960      463       336\n",
      "Delta                   955      723       544\n",
      "Southwest              1186      664       570\n",
      "US Airways             2263      381       269\n",
      "United                 2633      697       492\n",
      "Virgin America          181      171       152\n"
     ]
    }
   ],
   "source": [
    "# Tabla con cuenta de tweets por cada aerolínea y sentimiento\n",
    "tabla_sentimientos = pd.crosstab(index=tweets[\"airline\"], columns=tweets[\"airline_sentiment\"])\n",
    "print(tabla_sentimientos)"
   ]
  },
  {
   "cell_type": "markdown",
   "metadata": {},
   "source": [
    "### Liberias y Variables de interés y predicción"
   ]
  },
  {
   "cell_type": "code",
   "execution_count": 8,
   "metadata": {},
   "outputs": [
    {
     "name": "stderr",
     "output_type": "stream",
     "text": [
      "[nltk_data] Downloading package punkt to /Users/jerssonm/nltk_data...\n",
      "[nltk_data]   Package punkt is already up-to-date!\n",
      "[nltk_data] Downloading package averaged_perceptron_tagger to\n",
      "[nltk_data]     /Users/jerssonm/nltk_data...\n",
      "[nltk_data]   Package averaged_perceptron_tagger is already up-to-\n",
      "[nltk_data]       date!\n",
      "[nltk_data] Downloading package wordnet to\n",
      "[nltk_data]     /Users/jerssonm/nltk_data...\n",
      "[nltk_data]   Package wordnet is already up-to-date!\n",
      "[nltk_data] Downloading package stopwords to\n",
      "[nltk_data]     /Users/jerssonm/nltk_data...\n",
      "[nltk_data]   Package stopwords is already up-to-date!\n"
     ]
    },
    {
     "data": {
      "text/plain": [
       "True"
      ]
     },
     "execution_count": 8,
     "metadata": {},
     "output_type": "execute_result"
    }
   ],
   "source": [
    "from sklearn.model_selection import train_test_split\n",
    "from sklearn.feature_extraction.text import CountVectorizer\n",
    "from sklearn.ensemble import RandomForestClassifier\n",
    "from nltk.stem import WordNetLemmatizer\n",
    "from nltk.corpus import stopwords\n",
    "from sklearn.metrics import accuracy_score\n",
    "\n",
    "# Descargar recursos de NLTK\n",
    "import nltk\n",
    "nltk.download('punkt')\n",
    "nltk.download('averaged_perceptron_tagger')\n",
    "nltk.download('wordnet')\n",
    "nltk.download('stopwords')"
   ]
  },
  {
   "cell_type": "code",
   "execution_count": 9,
   "metadata": {},
   "outputs": [],
   "source": [
    "# Separación de variables predictoras (X) y de variable de interés (y)\n",
    "X = tweets['text']\n",
    "y = tweets['airline_sentiment'].map({'negative':-1,'neutral':0,'positive':1})"
   ]
  },
  {
   "cell_type": "code",
   "execution_count": 10,
   "metadata": {},
   "outputs": [],
   "source": [
    "# Separación de datos en set de entrenamiento y test\n",
    "X_train, X_test, y_train, y_test = train_test_split(X, y, test_size=0.33, random_state=42)"
   ]
  },
  {
   "cell_type": "markdown",
   "metadata": {},
   "source": [
    "### Punto 1 - Uso de CountVectorizer\n",
    "\n",
    "En la celda 1 creen un modelo de random forest con la libreria sklearn que prediga el sentimiento de los tweets usando los set de entrenamiento y test definidos anteriormente. Usen la función **CountVectorizer** y presenten el desempeño del modelo con la métrica del acurracy.\n",
    "\n",
    "Recuerden que el preprocesamiento que se haga sobre los datos de entrenamiento  (*.fit_transform()*) deben ser aplicado al set de test (*.transform()*)."
   ]
  },
  {
   "cell_type": "code",
   "execution_count": 11,
   "metadata": {},
   "outputs": [
    {
     "name": "stdout",
     "output_type": "stream",
     "text": [
      "La métrica Accuracy del modelo RF para Análisis de Sentimientos utilizando CountVectorizer() es: 0.77214.\n"
     ]
    }
   ],
   "source": [
    "# Celda 1\n",
    "# Creación del objeto CountVectorizer y ajuste a los datos de entrenamiento\n",
    "count_vectorizer = CountVectorizer()\n",
    "X_train_count = count_vectorizer.fit_transform(X_train)\n",
    "\n",
    "# Transformación de los datos de prueba\n",
    "X_test_count = count_vectorizer.transform(X_test)\n",
    "\n",
    "# Creación y entrenamiento del modelo de Random Forest\n",
    "rf_model = RandomForestClassifier(random_state=42, n_estimators= 250, n_jobs=-1)\n",
    "rf_model.fit(X_train_count, y_train)\n",
    "\n",
    "# Predicción sobre el conjunto de prueba\n",
    "y_pred_cv = rf_model.predict(X_test_count)\n",
    "\n",
    "# Evaluación del modelo\n",
    "accuracy_cv = accuracy_score(y_test, y_pred_cv)\n",
    "print(f\"La métrica Accuracy del modelo RF para Análisis de Sentimientos utilizando CountVectorizer() es: {accuracy_cv:.5}.\")"
   ]
  },
  {
   "cell_type": "markdown",
   "metadata": {},
   "source": [
    "El modelo de Random Forest entrenado con las características extraídas por CountVectorizer() pudo predecir correctamente el sentimiento de aproximadamente el 77.21% de los tweets en el conjunto de prueba."
   ]
  },
  {
   "cell_type": "markdown",
   "metadata": {},
   "source": [
    "### Punto 2 - Eliminación de Stopwords\n",
    "\n",
    "En la celda 2 creen un modelo de random forest con la libreria sklearn que prediga el sentimiento de los tweets usando los set de entrenamiento y test definidos anteriormente. Usen la función CountVectorizer, **eliminen stopwords** y presenten el desempeño del modelo con la métrica del acurracy.\n",
    "\n",
    "Recuerden que el preprocesamiento que se haga sobre los datos de entrenamiento  (*.fit_transform()*) deben ser aplicado al set de test (*.transform()*)."
   ]
  },
  {
   "cell_type": "code",
   "execution_count": 12,
   "metadata": {},
   "outputs": [
    {
     "name": "stdout",
     "output_type": "stream",
     "text": [
      "La métrica Accuracy del modelo RF para Análisis de Sentimientos utilizando CountVectorizer() con eliminación de -stop_words- es: 0.76449.\n"
     ]
    }
   ],
   "source": [
    "# Celda 2\n",
    "# Creación del objeto CountVectorizer con eliminación de stopwords\n",
    "count_vectorizer_sw = CountVectorizer(stop_words=stopwords.words('english'))\n",
    "X_train_count_sw = count_vectorizer_sw.fit_transform(X_train)\n",
    "X_test_count_sw = count_vectorizer_sw.transform(X_test)\n",
    "\n",
    "# Entrenamiento del modelo de Random Forest\n",
    "rf_model.fit(X_train_count_sw, y_train)\n",
    "\n",
    "# Predicción sobre el conjunto de prueba\n",
    "y_pred_sw = rf_model.predict(X_test_count_sw)\n",
    "\n",
    "# Evaluación del modelo\n",
    "accuracy_sw = accuracy_score(y_test, y_pred_sw)\n",
    "print(f\"La métrica Accuracy del modelo RF para Análisis de Sentimientos utilizando CountVectorizer() con eliminación de -stop_words- es: {accuracy_sw:.5}.\")"
   ]
  },
  {
   "cell_type": "markdown",
   "metadata": {},
   "source": [
    "La métrica Accuracy del modelo de RF es ahora igual a 0.76449, lo que significa que el modelo predijo correctamente el sentimiento de aproximadamente el 76.45% de los tweets en el conjunto de prueba. La leve reducción en el desempeño de la métrica puede deberse la eliminación de variables del modelo manteniendo la correlación de las remanentes."
   ]
  },
  {
   "cell_type": "markdown",
   "metadata": {},
   "source": [
    "### Punto 3 - Lematización con verbos\n",
    "\n",
    "En la celda 3 creen un modelo de random forest con la libreria sklearn que prediga el sentimiento de los tweets usando los set de entrenamiento y test definidos anteriormente. Usen la función CountVectorizer, **lematizen el texto con verbos** y presenten el desempeño del modelo con la métrica del acurracy.\n",
    "\n",
    "Recuerden que el preprocesamiento que se haga sobre los datos de entrenamiento  (*.fit_transform()*) deben ser aplicado al set de test (*.transform()*)."
   ]
  },
  {
   "cell_type": "code",
   "execution_count": 13,
   "metadata": {},
   "outputs": [
    {
     "name": "stdout",
     "output_type": "stream",
     "text": [
      "La métrica Accuracy del modelo RF para Análisis de Sentimientos utilizando CountVectorizer() con lematización de verbos es: 0.77525.\n"
     ]
    }
   ],
   "source": [
    "# Celda 3\n",
    "# Función para lematizar el texto con verbos\n",
    "def lemmatizer (text):\n",
    "    lemmatizer = WordNetLemmatizer()\n",
    "    words = text.lower().split()\n",
    "    lemmatized_text = [lemmatizer.lemmatize(word, pos='v') for word in words]\n",
    "    return ' '.join(lemmatized_text)\n",
    "\n",
    "# Lematización a los datos de entrenamiento y prueba\n",
    "X_train_lemmatized = X_train.apply(lemmatizer)\n",
    "X_test_lemmatized = X_test.apply(lemmatizer)\n",
    "\n",
    "# Creación y ajuste del CountVectorizer() con la lematización\n",
    "count_vectorizer_lemmatized = CountVectorizer()\n",
    "X_train_count_lemmatized = count_vectorizer_lemmatized.fit_transform(X_train_lemmatized)\n",
    "X_test_count_lemmatized = count_vectorizer_lemmatized.transform(X_test_lemmatized)\n",
    "\n",
    "# Entrenamiento del modelo de Random Forest\n",
    "rf_model.fit(X_train_count_lemmatized, y_train)\n",
    "\n",
    "# Predicción sobre el conjunto de prueba\n",
    "y_pred_lm = rf_model.predict(X_test_count_lemmatized)\n",
    "\n",
    "# Calcular y mostrar la precisión del modelo\n",
    "accuracy_lm = accuracy_score(y_test, y_pred_lm)\n",
    "print(f\"La métrica Accuracy del modelo RF para Análisis de Sentimientos utilizando CountVectorizer() con lematización de verbos es: {accuracy_lm:.5}.\")"
   ]
  },
  {
   "cell_type": "markdown",
   "metadata": {},
   "source": [
    "El modelo de RF logró un incremento en la métrica Accuracy a un valor de 0.77525 al utilizar CountVectorizer() con lematización de los verbos. Esto significa que el modelo clasificó correctamente el sentimiento de alrededor del 77.53% de los tweets en el conjunto de prueba. Al emplear esta técnica, el modelo tuvo un mejor desempeño respecto al uso de la eliminación de -stop_words- e inclusive que el modelo con la vectorización exclusiva. El incremento en la métrica puede deberse al incremento en la correlación de las variables de predicción por la lematización."
   ]
  },
  {
   "cell_type": "markdown",
   "metadata": {},
   "source": [
    "### Punto 4 - Multiples técnicas\n",
    "\n",
    "En la celda 4 creen un modelo de random forest con la libreria sklearn que prediga el sentimiento de los tweets usando los set de entrenamiento y test definidos anteriormente. Usen la función **CountVectorizer, eliminen stopwords, lematizen el texto con verbos** y presenten el desempeño del modelo con la métrica del acurracy.\n",
    "\n",
    "Recuerden que el preprocesamiento que se haga sobre los datos de entrenamiento  (*.fit_transform()*) deben ser aplicado al set de test (*.transform()*)."
   ]
  },
  {
   "cell_type": "code",
   "execution_count": 14,
   "metadata": {},
   "outputs": [
    {
     "name": "stdout",
     "output_type": "stream",
     "text": [
      "La métrica Accuracy del modelo RF para Análisis de Sentimientos utilizando multiples técnicas es: 0.77608.\n"
     ]
    }
   ],
   "source": [
    "# Celda 4\n",
    "# Función para lematizar el texto con verbos\n",
    "\n",
    "# Lematización a los datos de entrenamiento y prueba\n",
    "X_train_lemmatized = X_train.apply(lemmatizer)\n",
    "X_test_lemmatized = X_test.apply(lemmatizer)\n",
    "\n",
    "# Crear y ajustar el CountVectorizer con eliminación de stopwords y lematización\n",
    "count_vectorizer = CountVectorizer(stop_words=stopwords.words('english'))\n",
    "X_train_count = count_vectorizer.fit_transform(X_train_lemmatized)\n",
    "X_test_count = count_vectorizer.transform(X_test_lemmatized)\n",
    "\n",
    "# Entrenar el modelo de Random Forest\n",
    "rf_model.fit(X_train_count, y_train)\n",
    "\n",
    "# Predecir sobre el conjunto de prueba\n",
    "y_pred = rf_model.predict(X_test_count)\n",
    "\n",
    "# Calcular y mostrar la precisión del modelo\n",
    "accuracy = accuracy_score(y_test, y_pred)\n",
    "print(f\"La métrica Accuracy del modelo RF para Análisis de Sentimientos utilizando multiples técnicas es: {accuracy:.5}.\")"
   ]
  },
  {
   "cell_type": "markdown",
   "metadata": {},
   "source": [
    "El modelo de RF obtuvo una precisión (Accuracy) de aproximadamente 0.77608, es decir, un desempeño mayor a los modelos de RF entrenados en los puntos anteriores, lo que indica que la combinación de CountVectorizer() con la eliminación de -stop_words- y la lematización de verbos increment el desempeño del modelo. La eliminación de palabras (variables) que no aportan al poder de predicción sumado al incremento de la correlación de la variables predictoras por la lematización mejoran la métrica del modelo."
   ]
  },
  {
   "cell_type": "markdown",
   "metadata": {},
   "source": [
    "### Punto 5 - Comparación y análisis de resultados\n",
    "\n",
    "En la celda 5 comparen los resultados obtenidos de los diferentes modelos (random forest) y comenten las ventajas del mejor modelo y las desventajas del modelo con el menor desempeño."
   ]
  },
  {
   "cell_type": "code",
   "execution_count": 15,
   "metadata": {},
   "outputs": [
    {
     "name": "stdout",
     "output_type": "stream",
     "text": [
      "El mejor modelo para el Análisis de Sentimientos es el que usa la técnica: CountVectorizer() con Eliminación de -stop_words y Lematización de Verbos, con una métrica Accuracy de: 0.77608.\n",
      "El peor modelo para el Análisis de Sentimientos es el que usa la técnica: CountVectorizer() con Eliminación de -stop_words-, con una métrica Accuracy de: 0.76449.\n"
     ]
    },
    {
     "data": {
      "image/png": "[encoded data removed]",
      "text/plain": [
       "<Figure size 500x500 with 1 Axes>"
      ]
     },
     "metadata": {},
     "output_type": "display_data"
    }
   ],
   "source": [
    "# Celda 5\n",
    "# Resumen de los resultados de los diferentes modelos\n",
    "resultados = {\n",
    "    'CountVectorizer()': accuracy_cv,\n",
    "    'CountVectorizer() con Eliminación de -stop_words-': accuracy_sw,\n",
    "    'CountVectorizer() con Lematización de Verbos': accuracy_lm,\n",
    "    'CountVectorizer() con Eliminación de -stop_words y Lematización de Verbos': accuracy\n",
    "}\n",
    "\n",
    "# Definición del mejor y el peor desempeño\n",
    "mejor_modelo = max(resultados, key=resultados.get)\n",
    "peor_modelo = min(resultados, key=resultados.get)\n",
    "\n",
    "# Comentarios sobre los resultados\n",
    "print(f\"El mejor modelo para el Análisis de Sentimientos es el que usa la técnica: {mejor_modelo}, con una métrica Accuracy de: {resultados[mejor_modelo]:.5}.\")\n",
    "print(f\"El peor modelo para el Análisis de Sentimientos es el que usa la técnica: {peor_modelo}, con una métrica Accuracy de: {resultados[peor_modelo]:.5}.\")\n",
    "\n",
    "\n",
    "figure = pd.DataFrame(list(resultados.items()), columns=['Técnica', 'Métrica'])\n",
    "plt.figure(figsize=(5, 5))\n",
    "plt.barh(figure['Técnica'], figure['Métrica'], color=['blue', 'gray','orange', 'green'])\n",
    "\n",
    "plt.xlabel('Métrica del Modelo: Accuracy') \n",
    "plt.ylabel('Técnica de Normalización')\n",
    "plt.title('Análisis de Sentimientos - Técnicas de Normalización')\n",
    "plt.xlim(0.7, 0.8);"
   ]
  },
  {
   "cell_type": "markdown",
   "metadata": {},
   "source": [
    "La gráfica muestra la comparación de las diferentes técnicas de vectorización y normalización empleadas en un modelo de RF para el análisis de sentimientos. Se observa que el modelo que integra tanto la eliminación de palabras irrelevantes (-stop_words-) como la lematización de verbos logra una mayor precisión (Accuracy), alcanzando un valor aproximado de 0.7761. Esta mejora en el desempeño con respecto al modelo base, se logra con la eliminación de variables (palabras) que no aportan poder de predicción (-stop_words-) al modelo mientras que se incrementa la correlación entre las palabras y la variable dependiente (sentimiento) gracias a la lematización.\n",
    "\n",
    "Por otro lado, el modelo que solo aplica la eliminación de palabras irrelevantes(-stop_words-) registra la precisión más baja, del orden de 0.7645. Esta reducción en el desempeño del modelo se atribuye a la disminución de variables predictoras dada la eliminación de palabras irrelevantes (-stop_words-) al mismom tiempo que se mantinen las palabras restantes con un correlación baja con respecto a la variable dependiente.\n",
    "\n",
    "En conclusión, es notorio que el preprocesamiento de lenguaje como la lematización y la eliminación de palabras irrelevantes pueden incrementar la precisión en los modelos de análisis de sentimientos. Adicionalmente, es recomendable aplicar varias técnicas de manera conjunta."
   ]
  }
 ],
 "metadata": {
  "kernelspec": {
   "display_name": "Python 3",
   "language": "python",
   "name": "python3"
  },
  "language_info": {
   "codemirror_mode": {
    "name": "ipython",
    "version": 3
   },
   "file_extension": ".py",
   "mimetype": "text/x-python",
   "name": "python",
   "nbconvert_exporter": "python",
   "pygments_lexer": "ipython3",
   "version": "3.11.0"
  }
 },
 "nbformat": 4,
 "nbformat_minor": 2
}
