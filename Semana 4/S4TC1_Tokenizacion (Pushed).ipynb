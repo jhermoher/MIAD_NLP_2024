{
  "cells": [
    {
      "cell_type": "markdown",
      "metadata": {
        "id": "jdlI7JY1k0_G"
      },
      "source": [
        "![image info](https://raw.githubusercontent.com/albahnsen/MIAD_ML_and_NLP/main/images/banner_1.png)"
      ]
    },
    {
      "cell_type": "markdown",
      "metadata": {
        "id": "Vi-nk5Psk0_H"
      },
      "source": [
        "# Taller: Tokenización de textos  \n",
        "\n",
        "En este taller podrán poner en práctica sus conocimientos sobre preprocesamiento de texto (tokenización). El taller está constituido por 5 puntos, en los cuales deberan seguir las intrucciones de cada numeral para su desarrollo."
      ]
    },
    {
      "cell_type": "markdown",
      "metadata": {
        "id": "an9qMS7Rk0_H"
      },
      "source": [
        "## Datos detección de toxicidad en comentarios\n",
        "\n",
        "En este taller se usará el conjunto de datos de detección de toxicidad en comentarios de la base de datos de Kaggle. Cada observación es un comentario que tiene como variable objetivo (target) la probabilidad de ser un comentario tóxico. El objetivo es predecir la toxicidad de cada comentario. Para más detalles pueden visitar el siguiente enlace: [datos](https://www.kaggle.com/c/jigsaw-unintended-bias-in-toxicity-classification/data)."
      ]
    },
    {
      "cell_type": "code",
      "execution_count": null,
      "metadata": {
        "id": "bQgYCDbXk0_H"
      },
      "outputs": [],
      "source": [
        "import warnings\n",
        "warnings.filterwarnings('ignore')"
      ]
    },
    {
      "cell_type": "code",
      "execution_count": 1,
      "metadata": {
        "id": "-h1tT683k0_I"
      },
      "outputs": [],
      "source": [
        "# Importación librerías\n",
        "import pandas as pd\n",
        "\n",
        "import matplotlib.pyplot as plt\n",
        "import seaborn as sns\n",
        "\n",
        "%matplotlib inline\n",
        "sns.set_style('darkgrid')\n",
        "plt.style.use('ggplot')\n",
        "\n",
        "from sklearn.model_selection import train_test_split\n",
        "from sklearn.feature_extraction.text import CountVectorizer, TfidfVectorizer\n",
        "from sklearn.metrics import mean_squared_error\n",
        "from sklearn.linear_model import Ridge"
      ]
    },
    {
      "cell_type": "code",
      "execution_count": 2,
      "metadata": {
        "colab": {
          "base_uri": "https://localhost:8080/",
          "height": 206
        },
        "id": "T5G0KbBLk0_I",
        "outputId": "376899a3-98f0-4153-e822-f934d1fb8c33"
      },
      "outputs": [
        {
          "data": {
            "text/html": [
              "<div>\n",
              "<style scoped>\n",
              "    .dataframe tbody tr th:only-of-type {\n",
              "        vertical-align: middle;\n",
              "    }\n",
              "\n",
              "    .dataframe tbody tr th {\n",
              "        vertical-align: top;\n",
              "    }\n",
              "\n",
              "    .dataframe thead th {\n",
              "        text-align: right;\n",
              "    }\n",
              "</style>\n",
              "<table border=\"1\" class=\"dataframe\">\n",
              "  <thead>\n",
              "    <tr style=\"text-align: right;\">\n",
              "      <th></th>\n",
              "      <th>id</th>\n",
              "      <th>comment_text</th>\n",
              "      <th>target</th>\n",
              "    </tr>\n",
              "  </thead>\n",
              "  <tbody>\n",
              "    <tr>\n",
              "      <th>0</th>\n",
              "      <td>6101457</td>\n",
              "      <td>What are you talking about? What group do Pete...</td>\n",
              "      <td>0.0</td>\n",
              "    </tr>\n",
              "    <tr>\n",
              "      <th>1</th>\n",
              "      <td>5342103</td>\n",
              "      <td>NO!, Let him, we need a Conservative government.</td>\n",
              "      <td>0.0</td>\n",
              "    </tr>\n",
              "    <tr>\n",
              "      <th>2</th>\n",
              "      <td>743361</td>\n",
              "      <td>Perhaps he took the \"power out of the Cardinal...</td>\n",
              "      <td>0.2</td>\n",
              "    </tr>\n",
              "    <tr>\n",
              "      <th>3</th>\n",
              "      <td>551008</td>\n",
              "      <td>As always, yours is dripping with sarcasm, whi...</td>\n",
              "      <td>0.0</td>\n",
              "    </tr>\n",
              "    <tr>\n",
              "      <th>4</th>\n",
              "      <td>865998</td>\n",
              "      <td>The dirty little secret is that the price rang...</td>\n",
              "      <td>0.3</td>\n",
              "    </tr>\n",
              "  </tbody>\n",
              "</table>\n",
              "</div>"
            ],
            "text/plain": [
              "        id                                       comment_text  target\n",
              "0  6101457  What are you talking about? What group do Pete...     0.0\n",
              "1  5342103   NO!, Let him, we need a Conservative government.     0.0\n",
              "2   743361  Perhaps he took the \"power out of the Cardinal...     0.2\n",
              "3   551008  As always, yours is dripping with sarcasm, whi...     0.0\n",
              "4   865998  The dirty little secret is that the price rang...     0.3"
            ]
          },
          "execution_count": 2,
          "metadata": {},
          "output_type": "execute_result"
        }
      ],
      "source": [
        "# Carga de datos de archivos .csv\n",
        "df = pd.read_csv('https://raw.githubusercontent.com/albahnsen/MIAD_ML_and_NLP/main/datasets/Toxicity.zip')\n",
        "df = df[['id','comment_text', 'target']]\n",
        "df.head()"
      ]
    },
    {
      "cell_type": "code",
      "execution_count": 4,
      "metadata": {
        "colab": {
          "base_uri": "https://localhost:8080/",
          "height": 447
        },
        "id": "YPFt93VTk0_I",
        "outputId": "4a741e9a-454b-459e-930f-ffcd879153f4"
      },
      "outputs": [
        {
          "data": {
            "image/png": "[encoded data removed]",
            "text/plain": [
              "<Figure size 640x480 with 1 Axes>"
            ]
          },
          "metadata": {},
          "output_type": "display_data"
        }
      ],
      "source": [
        "# Impresión histograma de variable de interés (y)\n",
        "df.target.hist();"
      ]
    },
    {
      "cell_type": "code",
      "execution_count": 5,
      "metadata": {
        "colab": {
          "base_uri": "https://localhost:8080/"
        },
        "id": "B0KO91Sqk0_J",
        "outputId": "7c17a534-93d2-4b15-d4eb-192b10c8fe47"
      },
      "outputs": [
        {
          "data": {
            "text/plain": [
              "count    541462.000000\n",
              "mean          0.102991\n",
              "std           0.196979\n",
              "min           0.000000\n",
              "25%           0.000000\n",
              "50%           0.000000\n",
              "75%           0.166667\n",
              "max           1.000000\n",
              "Name: target, dtype: float64"
            ]
          },
          "execution_count": 5,
          "metadata": {},
          "output_type": "execute_result"
        }
      ],
      "source": [
        "# Separación de variable de interés (y)\n",
        "y = df.target\n",
        "y.describe()"
      ]
    },
    {
      "cell_type": "code",
      "execution_count": 6,
      "metadata": {
        "id": "-rljSMNnk0_J"
      },
      "outputs": [
        {
          "data": {
            "text/plain": [
              "0    What are you talking about? What group do Pete...\n",
              "1     NO!, Let him, we need a Conservative government.\n",
              "2    Perhaps he took the \"power out of the Cardinal...\n",
              "3    As always, yours is dripping with sarcasm, whi...\n",
              "4    The dirty little secret is that the price rang...\n",
              "Name: comment_text, dtype: object"
            ]
          },
          "execution_count": 6,
          "metadata": {},
          "output_type": "execute_result"
        }
      ],
      "source": [
        "# Separación de variables predictoras (X), solo se considera el texto de la noticia\n",
        "X = df.comment_text\n",
        "X.head()"
      ]
    },
    {
      "cell_type": "code",
      "execution_count": 7,
      "metadata": {
        "id": "Aq4lUC0xk0_J"
      },
      "outputs": [
        {
          "name": "stdout",
          "output_type": "stream",
          "text": [
            "(362779,) (178683,) (362779,) (178683,)\n"
          ]
        }
      ],
      "source": [
        "# Separación de datos en set de entrenamiento y test\n",
        "X_train, X_test, y_train, y_test = train_test_split(X, y, test_size=0.33, random_state=42)\n",
        "print(X_train.shape, X_test.shape, y_train.shape, y_test.shape) "
      ]
    },
    {
      "cell_type": "markdown",
      "metadata": {
        "id": "AnRdFMaRk0_J"
      },
      "source": [
        "## Punto 1 - Tokenización con CountVectorizer\n",
        "\n",
        "En la celda 1 creen y entrenen el modelo de regresión de su preferencia, para que prediga la probabilidad de que un comentario sea tóxico, usando los set de entrenamiento y test definidos anteriormente. Usen la función **CountVectorizer** para preprocesar los comentarios y presenten el desempeño del modelo con la métrica del MSE.\n",
        "\n",
        "Recuerden que el preprocesamiento que se haga sobre los datos de entrenamiento  (*.fit_transform()*) deben ser aplicado al set de test (*.transform()*)."
      ]
    },
    {
      "cell_type": "code",
      "execution_count": 8,
      "metadata": {
        "colab": {
          "base_uri": "https://localhost:8080/"
        },
        "id": "rxaza-3Tk0_J",
        "outputId": "3413cf2d-5c1d-4ec9-c7f5-1ab3b58e6f3f"
      },
      "outputs": [
        {
          "name": "stdout",
          "output_type": "stream",
          "text": [
            "Cantidad de unigramas: 141,176\n",
            "El error cuadrático medio (MSE) usando un modelo Ridge y el método CountVectorizer-Unigramas es: 0.02293\n"
          ]
        }
      ],
      "source": [
        "# Celda 1\n",
        "# Inicializar CountVectorizer\n",
        "count_vectorizer = CountVectorizer()\n",
        "\n",
        "# Entrenar y transformar los datos de entrenamiento\n",
        "X_train_unigrams = count_vectorizer.fit_transform(X_train)\n",
        "print(f\"Cantidad de unigramas: {X_train_unigrams.shape[1]:,.0f}\")\n",
        "\n",
        "# Transformar los datos de prueba\n",
        "X_test_unigrams = count_vectorizer.transform(X_test)\n",
        "\n",
        "# Inicializar y entrenar Ridge Regression\n",
        "ridge_model = Ridge(alpha=17.0,random_state=17)\n",
        "ridge_model.fit(X_train_unigrams, y_train)\n",
        "\n",
        "# Realizar predicciones en el conjunto de prueba\n",
        "y_pred = ridge_model.predict(X_test_unigrams)\n",
        "\n",
        "# Calcular el error cuadrático medio (MSE)\n",
        "mse_unigrams = mean_squared_error(y_test, y_pred)\n",
        "print(f\"El error cuadrático medio (MSE) usando un modelo Ridge y el método CountVectorizer-Unigramas es: {mse_unigrams:.5f}\")"
      ]
    },
    {
      "cell_type": "markdown",
      "metadata": {
        "id": "qMwjKMCSp8Ae"
      },
      "source": [
        "La tokenización usando CountVectorizer() generó **141,176** unigramas o tokens. Mediante un modelo de regresión Ridge, se obtuvo un MSE de aproximadamente **0.023**, indicando que el error en la predicción de la probabilidad de toxicidad es del orden de **0.151426**, lo que está por encima del promedio $(0.102991)$ de los valores de la variable dependiente en la base de datos. Esto significa que el modelo escogido no es el mejor para predecir en este caso; sin embargo, se continuó trabajando con él por su simplicidad, sus bajos requerimientos computacionales, y su reducido tiempo de ejecución facilitando la ejecución de este taller."
      ]
    },
    {
      "cell_type": "markdown",
      "metadata": {
        "id": "XLvJakq2k0_J"
      },
      "source": [
        "## Punto 2 - Tokenización con CountVectorizer y trigramas\n",
        "\n",
        "En la celda 2 creen y entrenen el mismo modelo de regresión del punto anterior (es decir si usaron un RandomForestRegresor usen nuevamente ese regresor), para que prediga la probabilidad de que un comentario sea tóxico, usando los set de entrenamiento y test definidos anteriormente. Usen la función CountVectorizer **considerando trigramas** para preprocesar los comentarios y presenten el desempeño del modelo con la métrica del MSE.\n",
        "\n",
        "Recuerden que el preprocesamiento que se haga sobre los datos de entrenamiento  (*.fit_transform()*) deben ser aplicado al set de test (*.transform()*)."
      ]
    },
    {
      "cell_type": "code",
      "execution_count": 9,
      "metadata": {
        "colab": {
          "base_uri": "https://localhost:8080/"
        },
        "id": "JDeqEaknk0_J",
        "outputId": "3e8b5e2f-84f9-4488-8ccf-61ca33e65290"
      },
      "outputs": [
        {
          "name": "stdout",
          "output_type": "stream",
          "text": [
            "Cantidad de trigramas: 14,221,994\n",
            "El error cuadrático medio (MSE) usando un modelo Ridge y el método CountVectorizer-Trigramas es: 0.02521\n"
          ]
        }
      ],
      "source": [
        "# Celda 2\n",
        "# Inicializar CountVectorizer con trigramas\n",
        "count_vectorizer_trigrams = CountVectorizer(ngram_range=(1, 3))  # Consideramos trigramas\n",
        "\n",
        "# Entrenar y transformar los datos de entrenamiento\n",
        "X_train_counts_trigrams = count_vectorizer_trigrams.fit_transform(X_train)\n",
        "print(f\"Cantidad de trigramas: {X_train_counts_trigrams.shape[1]:,.0f}\")\n",
        "\n",
        "# Transformar los datos de prueba\n",
        "X_test_counts_trigrams = count_vectorizer_trigrams.transform(X_test)\n",
        "\n",
        "# Inicializar y entrenar Ridge Regression\n",
        "ridge_model_trigrams = Ridge(alpha=17.0, random_state=17)  # Puedes ajustar el parámetro alpha según sea necesario\n",
        "ridge_model_trigrams.fit(X_train_counts_trigrams, y_train)\n",
        "\n",
        "# Realizar predicciones en el conjunto de prueba\n",
        "y_pred_trigrams = ridge_model_trigrams.predict(X_test_counts_trigrams)\n",
        "\n",
        "# Calcular el error cuadrático medio (MSE)\n",
        "mse_trigrams = mean_squared_error(y_test, y_pred_trigrams)\n",
        "print(f\"El error cuadrático medio (MSE) usando un modelo Ridge y el método CountVectorizer-Trigramas es: {mse_trigrams:.5f}\")"
      ]
    },
    {
      "cell_type": "markdown",
      "metadata": {
        "id": "3GaCOOruwnfp"
      },
      "source": [
        "La tokenización usando CountVectorizer(ngram_range=(1, 3)) generó **14,221,994** de trigramas o tokens; más de $100$ veces la cantidad de unigramas obtenidos en el punto anterior. Mediante el mismo modelo de regresión Ridge, se obtuvo un MSE de aproximadamente **0.02521**, indicando que el error en la predicción de la probabilidad de toxicidad es del orden de **0.158776**, ligeramente mayor que el modelo que se entrenó con unigramas.\n",
        "\n",
        "El incremento en la métrica MSE puede deberse a que con el uso de trigramas aumenta la dimensionalidad del modelo de una manera considerable; al contar con la misma cantidad de observaciones, la maldición de la dimensionalidad ejerse su afecto, y el modelo pierde poder predictivo."
      ]
    },
    {
      "cell_type": "markdown",
      "metadata": {
        "id": "XwqjBMTEk0_K"
      },
      "source": [
        "## Punto 3 - TfidfVectorizer\n",
        "\n",
        "Investigen sobre la función TfidfVectorizer. En la celda de texto 3, expliquen en qué consiste esta técnica de tokenización (describanla y expliquen su funcionamiento) y cúales son las ventajas o deventajas de su uso al compararlo con la función CountVectorizer."
      ]
    },
    {
      "cell_type": "markdown",
      "metadata": {
        "id": "6WFOKDOIxVtv"
      },
      "source": [
        "#Celda 3\n",
        "\n",
        "$TF-IDF$ es una técnica de tokenización utilizada en el procesamiento de lenguaje natural (NLP) que se basa en la frecuencia de términos en una observación (frase, oración, mensaje, etc.) y en la frecuencia inversa de términos en toda la base de datos o documento (**TF-IDF, Term Frequency-Inverse Document Frequency**). \n",
        "\n",
        "TF (Frecuencia de término): Mide la frecuencia con la que aparece una palabra en un documento específico. Si una palabra aparece con frecuencia en un documento, es probable que sea importante para ese documento.\n",
        "\n",
        "IDF (Frecuencia inversa de documento inversa): Mide la importancia de una palabra en todo el conjunto de documentos. Si una palabra es muy común en todo el conjunto, es menos discriminativa en la identificación del tema de un documento específico.\n",
        "\n",
        "TF-IDF: Combina las dos medidas anteriores para evaluar la importancia de una palabra en un documento en relación con su importancia en el conjunto de datos. Una alta puntuación TF-IDF se da a palabras que aparecen a menudo en un documento específico, pero raramente en el corpus en su conjunto.\n",
        "\n",
        "A continuación se muestra un ejemplo de cómo usar este método de tokenización en Python. Este código inicializa un tokenizador TfidfVectorizer, ajusta y transforma las observaciones en una matriz TF-IDF. Luego, extrae las características  utilizando get_feature_names_out() y convierte la matriz TF-IDF en un DataFrame de pandas para una fácil visualización y posterior uso en un algoritmo de predicción. La matriz resultante tfidf_df contendrá los valores TF-IDF para cada palabra en cada documento. Cada fila representa un documento u obervación y cada columna representa un token. Los valores en la matriz indican la importancia relativa de cada palabra en cada documento según TF-IDF.\n",
        "\n",
        "\n",
        "![image.png](data:image/png;base64,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)\n",
        "\n",
        "\n",
        "**TfidfVectorizer() en comparación con CountVectorizer():**\n",
        "\n",
        "- Ventajas de TfidfVectorizer:\n",
        "    - Ponderación de la importancia relativa: TfidfVectorizer utiliza la ponderación TF-IDF para evaluar la importancia relativa de las palabras en un documento en relación con su importancia en todo el conjunto de documentos. Esto permite capturar mejor la relevancia de las palabras para un documento específico.\n",
        "    - Atenuación del efecto de las palabras comunes: TF-IDF atenúa el efecto de las palabras comunes que pueden no ser informativas en la identificación del tema de un documento. Esto ayuda a reducir el impacto de las palabras muy frecuentes que pueden no llevar mucha información discriminativa.\n",
        "    - Manejo de términos raros: TF-IDF puede ser útil para manejar términos raros o específicos que pueden ser importantes para la clasificación de texto pero que aparecen con poca frecuencia en el conjunto de documentos. Estos términos raros tienden a recibir puntajes TF-IDF más altos en documentos donde aparecen.\n",
        "\n",
        "- Desventajas de TfidfVectorizer:\n",
        "    - Costo computacional: El cálculo de los valores TF-IDF puede ser más costoso computacionalmente en comparación con la simple cuenta de términos utilizada por CountVectorizer. Esto puede ser un problema en conjuntos de datos grandes o cuando se trabaja con recursos computacionales limitados.\n",
        "    - Menos efectivo para datos pequeños: En conjuntos de datos pequeños, donde la frecuencia de términos simples es suficiente para capturar la importancia de las palabras, el uso de TF-IDF puede no ser necesario y puede incluso introducir ruido adicional en los datos.\n",
        "\n",
        "- Ventajas de CountVectorizer:\n",
        "    - Simplicidad y velocidad: CountVectorizer es más simple y rápido de calcular en comparación con TfidfVectorizer, ya que solo cuenta las ocurrencias de palabras en los documentos sin considerar su importancia relativa.\n",
        "    - Efectividad en datos pequeños: Para conjuntos de datos pequeños donde la frecuencia de términos simples es suficiente para capturar la importancia de las palabras, CountVectorizer puede ser más efectivo y menos propenso a introducir ruido adicional en los datos.\n",
        "\n",
        "- Desventajas de CountVectorizer:\n",
        "    - No considera la importancia relativa: CountVectorizer no considera la importancia relativa de las palabras en un documento en relación con su importancia en todo el corpus, lo que puede llevar a una representación menos discriminativa de los documentos de texto. Esto puede ser un problema en conjuntos de datos grandes o en documentos largos donde las palabras muy frecuentes pueden no ser significativas.\n",
        "\n"
      ]
    },
    {
      "cell_type": "markdown",
      "metadata": {
        "id": "TwGg4vJ6k0_K"
      },
      "source": [
        "## Punto 4 - Tokenización con TfidfVectorizer\n",
        "\n",
        "En la celda 4 creen y entrenen el mismo modelo de regresión del primer punto, para que prediga la probabilidad de que un comentario sea tóxico, usando los set de entrenamiento y test definidos anteriormente. Procesen los comentarios con la función **TfidfVectorizer** y presenten el desempeño del modelo con la métrica del MSE.\n",
        "\n",
        "Recuerden que el preprocesamiento que se haga sobre los datos de entrenamiento  (*.fit_transform()*) deben ser aplicado al set de test (*.transform()*)."
      ]
    },
    {
      "cell_type": "code",
      "execution_count": 10,
      "metadata": {
        "colab": {
          "base_uri": "https://localhost:8080/"
        },
        "id": "5SCUPKnUk0_K",
        "outputId": "9b7c4cc3-32fa-4f80-a808-f22800ecd955"
      },
      "outputs": [
        {
          "name": "stdout",
          "output_type": "stream",
          "text": [
            "Cantidad de unigramas: 141,176\n",
            "El error cuadrático medio (MSE) usando un modelo Ridge y el método TfidfVectorizer-Unigramas es: 0.01983\n",
            "Cantidad de trigramas: 14,221,994\n",
            "El error cuadrático medio (MSE) usando un modelo Ridge y el método TfidfVectorizer-Trigramas es: 0.02495\n"
          ]
        }
      ],
      "source": [
        "# Celda 4\n",
        "# Inicializar y ajustar TfidfVectorizer en los datos de entrenamiento\n",
        "tfidf_vectorizer = TfidfVectorizer()\n",
        "X_train_tfidf = tfidf_vectorizer.fit_transform(X_train)\n",
        "print(f\"Cantidad de unigramas: {X_train_tfidf.shape[1]:,.0f}\")\n",
        "\n",
        "# Transformar los datos de prueba\n",
        "X_test_tfidf = tfidf_vectorizer.transform(X_test)\n",
        "\n",
        "# Inicializar y entrenar el modelo de regresión Ridge\n",
        "ridge_model_tfidf = Ridge(alpha=17.0,random_state=17)\n",
        "ridge_model_tfidf.fit(X_train_tfidf, y_train)\n",
        "\n",
        "# Realizar predicciones en el conjunto de prueba\n",
        "y_pred_tfidf = ridge_model_tfidf.predict(X_test_tfidf)\n",
        "\n",
        "# Calcular el error cuadrático medio (MSE)\n",
        "mse_tfidf = mean_squared_error(y_test, y_pred_tfidf)\n",
        "print(f\"El error cuadrático medio (MSE) usando un modelo Ridge y el método TfidfVectorizer-Unigramas es: {mse_tfidf:.5f}\")\n",
        "\n",
        "#Se corre el modelo con trigramas con el método TfidfVectorizer para comparar resultados con el otro método de tokenización\n",
        "tfidf_vectorizer3 = TfidfVectorizer(ngram_range=(1, 3))\n",
        "X_train_tfidf3 = tfidf_vectorizer3.fit_transform(X_train)\n",
        "print(f\"Cantidad de trigramas: {X_train_tfidf3.shape[1]:,.0f}\")\n",
        "\n",
        "X_test_tfidf3 = tfidf_vectorizer3.transform(X_test)\n",
        "\n",
        "ridge_model_tfidf3 = Ridge(alpha=17.0,random_state=17)\n",
        "ridge_model_tfidf3.fit(X_train_tfidf3, y_train)\n",
        "\n",
        "y_pred_tfidf3 = ridge_model_tfidf3.predict(X_test_tfidf3)\n",
        "\n",
        "mse_tfidf3 = mean_squared_error(y_test, y_pred_tfidf3)\n",
        "print(f\"El error cuadrático medio (MSE) usando un modelo Ridge y el método TfidfVectorizer-Trigramas es: {mse_tfidf3:.5f}\")\n"
      ]
    },
    {
      "cell_type": "markdown",
      "metadata": {
        "id": "S4U74hXB03VP"
      },
      "source": [
        "La tokenización usando el método TfidfVectorizer() generó **141,176** unigramas o tokens; tal como se esperaba, ya que se mantuvo al unidad para el token: unigrama. Mediante el mismo modelo de regresión Ridge, se obtuvo un MSE de aproximadamente **0.01983**, indicando que el error en la predicción de la probabilidad de toxicidad es del orden de **0.140819**, menor que el modelo que se entrenó con unigramas obtenidos por el método de CountVectorizer().\n",
        "\n",
        "El mejoramiento en el poder de predicción del modelo radica en el método de tokenización. Con se explica ene el punto anterior, TfidfVectorizer() asigna un nivel de importancia relativa al token basado en la frecuencia en la que aparece en la observación y en la frecuencia inversa en la que aparece en la base de datos, aumentando la correlación entre la probabilidad de toxicidad y el token.\n",
        "\n",
        "Al llamativo es que el uso de este método de tokenización, comparado con el primero, reduce considerablemente los tiempos de ejecución del ajuste y transformarción, y también del entrenamiento del modelo."
      ]
    },
    {
      "cell_type": "markdown",
      "metadata": {
        "id": "SH7yh-2Hk0_K"
      },
      "source": [
        "## Punto 5 - Comparación y análisis de resultados\n",
        "\n",
        "En la celda 5 comparen los resultados obtenidos de los diferentes modelos y comenten cómo el preprocesamiento de texto afecta el desempeño."
      ]
    },
    {
      "cell_type": "code",
      "execution_count": 13,
      "metadata": {
        "colab": {
          "base_uri": "https://localhost:8080/",
          "height": 565
        },
        "id": "XM-cZr_Ek0_K",
        "outputId": "162569d1-7d8b-4803-fdb8-43d3f7a3369b"
      },
      "outputs": [
        {
          "data": {
            "image/png": "[encoded data removed]",
            "text/plain": [
              "<Figure size 1000x600 with 1 Axes>"
            ]
          },
          "metadata": {},
          "output_type": "display_data"
        }
      ],
      "source": [
        "# Celda 5\n",
        "# Se crea una gráfica de barras para comparar los MSEs de los diferentes métodos de tokenización  \n",
        "model_names = [\"TfidfVectorizer-unigramas\",\"CountVectorizer-Unigramas\",\"CountVectorizer-Trigramas\",\"TfidfVectorizer-trigramas\" ]\n",
        "\n",
        "mse_values = [mse_tfidf, mse_unigrams, mse_trigrams, mse_tfidf3]\n",
        "\n",
        "plt.figure(figsize=(10, 6))\n",
        "plt.bar(model_names, mse_values, color=['blue', 'gray','orange', 'green'])\n",
        "\n",
        "plt.xlabel('Método de Tokenización')\n",
        "plt.ylabel('MSE')\n",
        "plt.title('Comparación de MSE entre Métodos de Tokenización')\n",
        "plt.ylim(0, max(mse_values) * 1.1);"
      ]
    },
    {
      "cell_type": "markdown",
      "metadata": {
        "id": "D14fCwBwXwF8"
      },
      "source": [
        "Después de comparar y analizar los resultados de los cuatro modelos utilizando diferentes métodos de tokenización y enfoques en el preprocesamiento de texto, tenemos las siguientes conclusiones:\n",
        "\n",
        "- **CountVectorizer (unigramas):**\n",
        "Este enfoque, que considera cada palabra individual (unigrama) como un token, produce un número de tokens que pueden estar en un rango aceptable para el entrenamiento de modelos de regresión; sin embargo, este método de tokenización no propociona una correlación significativa con la variable independiente al tener en cuenta la importancia relativa de las palabras. Esta condición no le otorga poder de predicción al modelo (MSE: 0.02293).\n",
        "\n",
        "- **CountVectorizer (trigramas):**\n",
        "Al considerar trigramas (secuencias de tres palabras consecutivas) como tokens, este enfoque incrementa significativamente el número de tokens o variables indenpendientes, afectado el desempeño del modelo de predicción debido al efecto de la $Maldición de la Dimensionalidad$. Asimismo, incrementa notablemente el tiempo de ejecución del ajuste y transformación de la base de datos y de entrenamiento del modelo. Estas condiciones afectan negativamente el desempeño del modelo. En este caso, este enfoque tiene el MSE más alto. (MSE: 0.02521)\n",
        "\n",
        "- **TfidfVectorizer (unigramas y trigramas):**\n",
        "Este enfoque, que utiliza la ponderación TF-IDF para evaluar la importancia relativa de las palabras, aumentó el poder predictivo del modelo obteniendo el MSE más bajo entre los modelos evaluados, al aumentar la correlación entre los tokens (variables independientes) y la variable dependiente. Este método de preprocesamiento, tiene una ventaja adicional; su ajuste y transformación es más eficiente, permitiendo tiempos de ejecución mucho más cortos en el pre-procesamiento del texto y además, en el entrenamiento de modelos de predicción. (MSE: 0.01983)\n",
        "\n",
        "En conclusión, la selección de un método apropiado de tokenización durante la fase de preprocesammiento de texto infiere directamente en el desempeño del modelo de predicción que sse estime usar para cada caso particular."
      ]
    }
  ],
  "metadata": {
    "colab": {
      "provenance": []
    },
    "kernelspec": {
      "display_name": "Python 3",
      "language": "python",
      "name": "python3"
    },
    "language_info": {
      "codemirror_mode": {
        "name": "ipython",
        "version": 3
      },
      "file_extension": ".py",
      "mimetype": "text/x-python",
      "name": "python",
      "nbconvert_exporter": "python",
      "pygments_lexer": "ipython3",
      "version": "3.11.0"
    },
    "name": "_merged"
  },
  "nbformat": 4,
  "nbformat_minor": 0
}
